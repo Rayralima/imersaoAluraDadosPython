{
  "cells": [
    {
      "cell_type": "markdown",
      "metadata": {
        "id": "bEXnODrs7O5A"
      },
      "source": [
        "# Aula 1 - Análise de Dados com Pandas\n"
      ]
    },
    {
      "cell_type": "code",
      "execution_count": 4,
      "metadata": {
        "id": "ZmAvUfXxv3rk"
      },
      "outputs": [],
      "source": [
        "import pandas as pd"
      ]
    },
    {
      "cell_type": "code",
      "execution_count": 5,
      "metadata": {
        "id": "RFBZu4syv7SL"
      },
      "outputs": [],
      "source": [
        "df = pd.read_csv(\"https://raw.githubusercontent.com/guilhermeonrails/data-jobs/refs/heads/main/salaries.csv\")"
      ]
    },
    {
      "cell_type": "code",
      "execution_count": 6,
      "metadata": {
        "colab": {
          "base_uri": "https://localhost:8080/",
          "height": 206
        },
        "id": "GMfkH19IwLmk",
        "outputId": "b5c74449-e182-45cc-ffbf-b698c9c42ab0"
      },
      "outputs": [
        {
          "data": {
            "text/html": [
              "<div>\n",
              "<style scoped>\n",
              "    .dataframe tbody tr th:only-of-type {\n",
              "        vertical-align: middle;\n",
              "    }\n",
              "\n",
              "    .dataframe tbody tr th {\n",
              "        vertical-align: top;\n",
              "    }\n",
              "\n",
              "    .dataframe thead th {\n",
              "        text-align: right;\n",
              "    }\n",
              "</style>\n",
              "<table border=\"1\" class=\"dataframe\">\n",
              "  <thead>\n",
              "    <tr style=\"text-align: right;\">\n",
              "      <th></th>\n",
              "      <th>work_year</th>\n",
              "      <th>experience_level</th>\n",
              "      <th>employment_type</th>\n",
              "      <th>job_title</th>\n",
              "      <th>salary</th>\n",
              "      <th>salary_currency</th>\n",
              "      <th>salary_in_usd</th>\n",
              "      <th>employee_residence</th>\n",
              "      <th>remote_ratio</th>\n",
              "      <th>company_location</th>\n",
              "      <th>company_size</th>\n",
              "    </tr>\n",
              "  </thead>\n",
              "  <tbody>\n",
              "    <tr>\n",
              "      <th>0</th>\n",
              "      <td>2025.0</td>\n",
              "      <td>SE</td>\n",
              "      <td>FT</td>\n",
              "      <td>Solutions Engineer</td>\n",
              "      <td>214000</td>\n",
              "      <td>USD</td>\n",
              "      <td>214000</td>\n",
              "      <td>US</td>\n",
              "      <td>100</td>\n",
              "      <td>US</td>\n",
              "      <td>M</td>\n",
              "    </tr>\n",
              "    <tr>\n",
              "      <th>1</th>\n",
              "      <td>2025.0</td>\n",
              "      <td>SE</td>\n",
              "      <td>FT</td>\n",
              "      <td>Solutions Engineer</td>\n",
              "      <td>136000</td>\n",
              "      <td>USD</td>\n",
              "      <td>136000</td>\n",
              "      <td>US</td>\n",
              "      <td>100</td>\n",
              "      <td>US</td>\n",
              "      <td>M</td>\n",
              "    </tr>\n",
              "    <tr>\n",
              "      <th>2</th>\n",
              "      <td>2025.0</td>\n",
              "      <td>MI</td>\n",
              "      <td>FT</td>\n",
              "      <td>Data Engineer</td>\n",
              "      <td>158800</td>\n",
              "      <td>USD</td>\n",
              "      <td>158800</td>\n",
              "      <td>AU</td>\n",
              "      <td>0</td>\n",
              "      <td>AU</td>\n",
              "      <td>M</td>\n",
              "    </tr>\n",
              "    <tr>\n",
              "      <th>3</th>\n",
              "      <td>2025.0</td>\n",
              "      <td>MI</td>\n",
              "      <td>FT</td>\n",
              "      <td>Data Engineer</td>\n",
              "      <td>139200</td>\n",
              "      <td>USD</td>\n",
              "      <td>139200</td>\n",
              "      <td>AU</td>\n",
              "      <td>0</td>\n",
              "      <td>AU</td>\n",
              "      <td>M</td>\n",
              "    </tr>\n",
              "    <tr>\n",
              "      <th>4</th>\n",
              "      <td>2025.0</td>\n",
              "      <td>EN</td>\n",
              "      <td>FT</td>\n",
              "      <td>Data Engineer</td>\n",
              "      <td>90000</td>\n",
              "      <td>USD</td>\n",
              "      <td>90000</td>\n",
              "      <td>US</td>\n",
              "      <td>0</td>\n",
              "      <td>US</td>\n",
              "      <td>M</td>\n",
              "    </tr>\n",
              "  </tbody>\n",
              "</table>\n",
              "</div>"
            ],
            "text/plain": [
              "   work_year experience_level employment_type           job_title  salary  \\\n",
              "0     2025.0               SE              FT  Solutions Engineer  214000   \n",
              "1     2025.0               SE              FT  Solutions Engineer  136000   \n",
              "2     2025.0               MI              FT       Data Engineer  158800   \n",
              "3     2025.0               MI              FT       Data Engineer  139200   \n",
              "4     2025.0               EN              FT       Data Engineer   90000   \n",
              "\n",
              "  salary_currency  salary_in_usd employee_residence  remote_ratio  \\\n",
              "0             USD         214000                 US           100   \n",
              "1             USD         136000                 US           100   \n",
              "2             USD         158800                 AU             0   \n",
              "3             USD         139200                 AU             0   \n",
              "4             USD          90000                 US             0   \n",
              "\n",
              "  company_location company_size  \n",
              "0               US            M  \n",
              "1               US            M  \n",
              "2               AU            M  \n",
              "3               AU            M  \n",
              "4               US            M  "
            ]
          },
          "execution_count": 6,
          "metadata": {},
          "output_type": "execute_result"
        }
      ],
      "source": [
        "df.head()"
      ]
    },
    {
      "cell_type": "code",
      "execution_count": 7,
      "metadata": {
        "colab": {
          "base_uri": "https://localhost:8080/"
        },
        "id": "o0hh5wZAwM8u",
        "outputId": "59a45728-af97-4c0c-a311-b01622c4cfa0"
      },
      "outputs": [
        {
          "name": "stdout",
          "output_type": "stream",
          "text": [
            "<class 'pandas.core.frame.DataFrame'>\n",
            "RangeIndex: 133349 entries, 0 to 133348\n",
            "Data columns (total 11 columns):\n",
            " #   Column              Non-Null Count   Dtype  \n",
            "---  ------              --------------   -----  \n",
            " 0   work_year           133339 non-null  float64\n",
            " 1   experience_level    133349 non-null  object \n",
            " 2   employment_type     133349 non-null  object \n",
            " 3   job_title           133349 non-null  object \n",
            " 4   salary              133349 non-null  int64  \n",
            " 5   salary_currency     133349 non-null  object \n",
            " 6   salary_in_usd       133349 non-null  int64  \n",
            " 7   employee_residence  133349 non-null  object \n",
            " 8   remote_ratio        133349 non-null  int64  \n",
            " 9   company_location    133349 non-null  object \n",
            " 10  company_size        133349 non-null  object \n",
            "dtypes: float64(1), int64(3), object(7)\n",
            "memory usage: 11.2+ MB\n"
          ]
        }
      ],
      "source": [
        "df.info()"
      ]
    },
    {
      "cell_type": "code",
      "execution_count": 8,
      "metadata": {
        "colab": {
          "base_uri": "https://localhost:8080/",
          "height": 300
        },
        "id": "wptuXbmBwZez",
        "outputId": "3d893d1a-5ed2-4f32-ffbe-0e680c1bb518"
      },
      "outputs": [
        {
          "data": {
            "text/html": [
              "<div>\n",
              "<style scoped>\n",
              "    .dataframe tbody tr th:only-of-type {\n",
              "        vertical-align: middle;\n",
              "    }\n",
              "\n",
              "    .dataframe tbody tr th {\n",
              "        vertical-align: top;\n",
              "    }\n",
              "\n",
              "    .dataframe thead th {\n",
              "        text-align: right;\n",
              "    }\n",
              "</style>\n",
              "<table border=\"1\" class=\"dataframe\">\n",
              "  <thead>\n",
              "    <tr style=\"text-align: right;\">\n",
              "      <th></th>\n",
              "      <th>work_year</th>\n",
              "      <th>salary</th>\n",
              "      <th>salary_in_usd</th>\n",
              "      <th>remote_ratio</th>\n",
              "    </tr>\n",
              "  </thead>\n",
              "  <tbody>\n",
              "    <tr>\n",
              "      <th>count</th>\n",
              "      <td>133339.000000</td>\n",
              "      <td>1.333490e+05</td>\n",
              "      <td>133349.000000</td>\n",
              "      <td>133349.000000</td>\n",
              "    </tr>\n",
              "    <tr>\n",
              "      <th>mean</th>\n",
              "      <td>2024.358770</td>\n",
              "      <td>1.632833e+05</td>\n",
              "      <td>157617.272098</td>\n",
              "      <td>20.905669</td>\n",
              "    </tr>\n",
              "    <tr>\n",
              "      <th>std</th>\n",
              "      <td>0.680627</td>\n",
              "      <td>2.173860e+05</td>\n",
              "      <td>74288.363097</td>\n",
              "      <td>40.590044</td>\n",
              "    </tr>\n",
              "    <tr>\n",
              "      <th>min</th>\n",
              "      <td>2020.000000</td>\n",
              "      <td>1.400000e+04</td>\n",
              "      <td>15000.000000</td>\n",
              "      <td>0.000000</td>\n",
              "    </tr>\n",
              "    <tr>\n",
              "      <th>25%</th>\n",
              "      <td>2024.000000</td>\n",
              "      <td>1.060200e+05</td>\n",
              "      <td>106000.000000</td>\n",
              "      <td>0.000000</td>\n",
              "    </tr>\n",
              "    <tr>\n",
              "      <th>50%</th>\n",
              "      <td>2024.000000</td>\n",
              "      <td>1.470000e+05</td>\n",
              "      <td>146206.000000</td>\n",
              "      <td>0.000000</td>\n",
              "    </tr>\n",
              "    <tr>\n",
              "      <th>75%</th>\n",
              "      <td>2025.000000</td>\n",
              "      <td>1.990000e+05</td>\n",
              "      <td>198000.000000</td>\n",
              "      <td>0.000000</td>\n",
              "    </tr>\n",
              "    <tr>\n",
              "      <th>max</th>\n",
              "      <td>2025.000000</td>\n",
              "      <td>3.040000e+07</td>\n",
              "      <td>800000.000000</td>\n",
              "      <td>100.000000</td>\n",
              "    </tr>\n",
              "  </tbody>\n",
              "</table>\n",
              "</div>"
            ],
            "text/plain": [
              "           work_year        salary  salary_in_usd   remote_ratio\n",
              "count  133339.000000  1.333490e+05  133349.000000  133349.000000\n",
              "mean     2024.358770  1.632833e+05  157617.272098      20.905669\n",
              "std         0.680627  2.173860e+05   74288.363097      40.590044\n",
              "min      2020.000000  1.400000e+04   15000.000000       0.000000\n",
              "25%      2024.000000  1.060200e+05  106000.000000       0.000000\n",
              "50%      2024.000000  1.470000e+05  146206.000000       0.000000\n",
              "75%      2025.000000  1.990000e+05  198000.000000       0.000000\n",
              "max      2025.000000  3.040000e+07  800000.000000     100.000000"
            ]
          },
          "execution_count": 8,
          "metadata": {},
          "output_type": "execute_result"
        }
      ],
      "source": [
        "df.describe()"
      ]
    },
    {
      "cell_type": "code",
      "execution_count": 9,
      "metadata": {
        "colab": {
          "base_uri": "https://localhost:8080/"
        },
        "id": "yZstKUdN0M4Y",
        "outputId": "9bf5d0dd-c672-438b-802a-84e97e08d11a"
      },
      "outputs": [
        {
          "data": {
            "text/plain": [
              "(133349, 11)"
            ]
          },
          "execution_count": 9,
          "metadata": {},
          "output_type": "execute_result"
        }
      ],
      "source": [
        "df.shape"
      ]
    },
    {
      "cell_type": "code",
      "execution_count": 10,
      "metadata": {
        "colab": {
          "base_uri": "https://localhost:8080/"
        },
        "id": "MDABm-ES0RLe",
        "outputId": "36127e65-27f4-4412-c371-e966711bab82"
      },
      "outputs": [
        {
          "name": "stdout",
          "output_type": "stream",
          "text": [
            "Linhas: 133349\n",
            "Colunas: 11\n"
          ]
        }
      ],
      "source": [
        "linhas, colunas = df.shape[0], df.shape[1]\n",
        "print('Linhas:', linhas)\n",
        "print('Colunas:', colunas)"
      ]
    },
    {
      "cell_type": "code",
      "execution_count": 11,
      "metadata": {
        "colab": {
          "base_uri": "https://localhost:8080/"
        },
        "id": "50tKfITQwe97",
        "outputId": "f59beed0-ea63-4f6f-99ba-93fa8a0a1515"
      },
      "outputs": [
        {
          "data": {
            "text/plain": [
              "Index(['work_year', 'experience_level', 'employment_type', 'job_title',\n",
              "       'salary', 'salary_currency', 'salary_in_usd', 'employee_residence',\n",
              "       'remote_ratio', 'company_location', 'company_size'],\n",
              "      dtype='object')"
            ]
          },
          "execution_count": 11,
          "metadata": {},
          "output_type": "execute_result"
        }
      ],
      "source": [
        "df.columns"
      ]
    },
    {
      "cell_type": "markdown",
      "metadata": {
        "id": "ZHUv0vzWMAMZ"
      },
      "source": [
        "### Renomeando as colunas do DataFrame"
      ]
    },
    {
      "cell_type": "code",
      "execution_count": 12,
      "metadata": {
        "colab": {
          "base_uri": "https://localhost:8080/",
          "height": 206
        },
        "id": "t4TR1wP0ysJ3",
        "outputId": "d4c63273-ca76-4d4c-c1b2-42774de7822b"
      },
      "outputs": [
        {
          "data": {
            "text/html": [
              "<div>\n",
              "<style scoped>\n",
              "    .dataframe tbody tr th:only-of-type {\n",
              "        vertical-align: middle;\n",
              "    }\n",
              "\n",
              "    .dataframe tbody tr th {\n",
              "        vertical-align: top;\n",
              "    }\n",
              "\n",
              "    .dataframe thead th {\n",
              "        text-align: right;\n",
              "    }\n",
              "</style>\n",
              "<table border=\"1\" class=\"dataframe\">\n",
              "  <thead>\n",
              "    <tr style=\"text-align: right;\">\n",
              "      <th></th>\n",
              "      <th>ano</th>\n",
              "      <th>senioridade</th>\n",
              "      <th>contrato</th>\n",
              "      <th>cargo</th>\n",
              "      <th>salario</th>\n",
              "      <th>moeda</th>\n",
              "      <th>usd</th>\n",
              "      <th>residencia</th>\n",
              "      <th>remoto</th>\n",
              "      <th>empresa</th>\n",
              "      <th>tamanho_empresa</th>\n",
              "    </tr>\n",
              "  </thead>\n",
              "  <tbody>\n",
              "    <tr>\n",
              "      <th>0</th>\n",
              "      <td>2025.0</td>\n",
              "      <td>SE</td>\n",
              "      <td>FT</td>\n",
              "      <td>Solutions Engineer</td>\n",
              "      <td>214000</td>\n",
              "      <td>USD</td>\n",
              "      <td>214000</td>\n",
              "      <td>US</td>\n",
              "      <td>100</td>\n",
              "      <td>US</td>\n",
              "      <td>M</td>\n",
              "    </tr>\n",
              "    <tr>\n",
              "      <th>1</th>\n",
              "      <td>2025.0</td>\n",
              "      <td>SE</td>\n",
              "      <td>FT</td>\n",
              "      <td>Solutions Engineer</td>\n",
              "      <td>136000</td>\n",
              "      <td>USD</td>\n",
              "      <td>136000</td>\n",
              "      <td>US</td>\n",
              "      <td>100</td>\n",
              "      <td>US</td>\n",
              "      <td>M</td>\n",
              "    </tr>\n",
              "    <tr>\n",
              "      <th>2</th>\n",
              "      <td>2025.0</td>\n",
              "      <td>MI</td>\n",
              "      <td>FT</td>\n",
              "      <td>Data Engineer</td>\n",
              "      <td>158800</td>\n",
              "      <td>USD</td>\n",
              "      <td>158800</td>\n",
              "      <td>AU</td>\n",
              "      <td>0</td>\n",
              "      <td>AU</td>\n",
              "      <td>M</td>\n",
              "    </tr>\n",
              "    <tr>\n",
              "      <th>3</th>\n",
              "      <td>2025.0</td>\n",
              "      <td>MI</td>\n",
              "      <td>FT</td>\n",
              "      <td>Data Engineer</td>\n",
              "      <td>139200</td>\n",
              "      <td>USD</td>\n",
              "      <td>139200</td>\n",
              "      <td>AU</td>\n",
              "      <td>0</td>\n",
              "      <td>AU</td>\n",
              "      <td>M</td>\n",
              "    </tr>\n",
              "    <tr>\n",
              "      <th>4</th>\n",
              "      <td>2025.0</td>\n",
              "      <td>EN</td>\n",
              "      <td>FT</td>\n",
              "      <td>Data Engineer</td>\n",
              "      <td>90000</td>\n",
              "      <td>USD</td>\n",
              "      <td>90000</td>\n",
              "      <td>US</td>\n",
              "      <td>0</td>\n",
              "      <td>US</td>\n",
              "      <td>M</td>\n",
              "    </tr>\n",
              "  </tbody>\n",
              "</table>\n",
              "</div>"
            ],
            "text/plain": [
              "      ano senioridade contrato               cargo  salario moeda     usd  \\\n",
              "0  2025.0          SE       FT  Solutions Engineer   214000   USD  214000   \n",
              "1  2025.0          SE       FT  Solutions Engineer   136000   USD  136000   \n",
              "2  2025.0          MI       FT       Data Engineer   158800   USD  158800   \n",
              "3  2025.0          MI       FT       Data Engineer   139200   USD  139200   \n",
              "4  2025.0          EN       FT       Data Engineer    90000   USD   90000   \n",
              "\n",
              "  residencia  remoto empresa tamanho_empresa  \n",
              "0         US     100      US               M  \n",
              "1         US     100      US               M  \n",
              "2         AU       0      AU               M  \n",
              "3         AU       0      AU               M  \n",
              "4         US       0      US               M  "
            ]
          },
          "execution_count": 12,
          "metadata": {},
          "output_type": "execute_result"
        }
      ],
      "source": [
        "# Dicionário de renomeação\n",
        "novos_nomes = {\n",
        "    'work_year': 'ano',\n",
        "    'experience_level': 'senioridade',\n",
        "    'employment_type': 'contrato',\n",
        "    'job_title': 'cargo',\n",
        "    'salary': 'salario',\n",
        "    'salary_currency': 'moeda',\n",
        "    'salary_in_usd': 'usd',\n",
        "    'employee_residence': 'residencia',\n",
        "    'remote_ratio': 'remoto',\n",
        "    'company_location': 'empresa',\n",
        "    'company_size': 'tamanho_empresa'\n",
        "}\n",
        "\n",
        "# Aplicando renomeação\n",
        "df.rename(columns=novos_nomes, inplace=True)\n",
        "\n",
        "# Verificando resultado\n",
        "df.head()"
      ]
    },
    {
      "cell_type": "markdown",
      "metadata": {
        "id": "_mpHEonFMFxX"
      },
      "source": [
        "### Analisando quais sãos as categorias das colunas categóricas"
      ]
    },
    {
      "cell_type": "markdown",
      "metadata": {
        "id": "cF4cKLZ-MZgB"
      },
      "source": [
        "#### Nível de senioridade"
      ]
    },
    {
      "cell_type": "code",
      "execution_count": 13,
      "metadata": {
        "colab": {
          "base_uri": "https://localhost:8080/",
          "height": 241
        },
        "id": "0XA0Gu3fyw25",
        "outputId": "a6f13da4-69ba-4cf4-ec62-3b7911322617"
      },
      "outputs": [
        {
          "data": {
            "text/plain": [
              "senioridade\n",
              "SE    77241\n",
              "MI    40465\n",
              "EN    12443\n",
              "EX     3200\n",
              "Name: count, dtype: int64"
            ]
          },
          "execution_count": 13,
          "metadata": {},
          "output_type": "execute_result"
        }
      ],
      "source": [
        "# O método .value_counts() serve para contar quantas vezes cada valor único aparece em uma coluna.\n",
        "df['senioridade'].value_counts()"
      ]
    },
    {
      "cell_type": "markdown",
      "metadata": {
        "id": "jmPdIrIH1X2R"
      },
      "source": [
        "| Sigla | Significado | Descrição                                 |\n",
        "|-------|-------------|--------------------------------------------|\n",
        "| SE    | Senior      | Profissional experiente (nível sênior)     |\n",
        "| MI    | Mid         | Nível intermediário                        |\n",
        "| EN    | Entry       | Iniciante ou júnior (entry-level)          |\n",
        "| EX    | Executive   | Executivo, liderança sênior (C-Level)      |\n"
      ]
    },
    {
      "cell_type": "markdown",
      "metadata": {
        "id": "ULdAvyEbMd1-"
      },
      "source": [
        "#### Tipo de contrato"
      ]
    },
    {
      "cell_type": "code",
      "execution_count": 14,
      "metadata": {
        "colab": {
          "base_uri": "https://localhost:8080/",
          "height": 241
        },
        "id": "tZTJ-A7mz_Uy",
        "outputId": "2e5a87b8-32db-49fc-838f-1f4764a47a3f"
      },
      "outputs": [
        {
          "data": {
            "text/plain": [
              "contrato\n",
              "FT    132563\n",
              "CT       394\n",
              "PT       376\n",
              "FL        16\n",
              "Name: count, dtype: int64"
            ]
          },
          "execution_count": 14,
          "metadata": {},
          "output_type": "execute_result"
        }
      ],
      "source": [
        "df['contrato'].value_counts()"
      ]
    },
    {
      "cell_type": "markdown",
      "metadata": {
        "id": "VkjSU5ES1ijf"
      },
      "source": [
        "| Sigla | Significado  | Descrição                                                           |\n",
        "|-------|--------------|----------------------------------------------------------------------|\n",
        "| FT    | Full-time    | Tempo integral – trabalho padrão de 40h/semana ou período completo   |\n",
        "| PT    | Part-time    | Meio período – carga horária reduzida                                |\n",
        "| CT    | Contract     | Contrato temporário ou por projeto – geralmente por prazo determinado|\n",
        "| FL    | Freelance    | Freelancer – trabalho autônomo ou por demanda, sem vínculo formal    |\n"
      ]
    },
    {
      "cell_type": "markdown",
      "metadata": {
        "id": "GbqEJn1sMfkO"
      },
      "source": [
        "#### Regime de trabalho"
      ]
    },
    {
      "cell_type": "code",
      "execution_count": 15,
      "metadata": {
        "colab": {
          "base_uri": "https://localhost:8080/",
          "height": 210
        },
        "id": "wN1XEo4M05zY",
        "outputId": "aad32167-323b-4d57-ba1f-ec7cd29f6a32"
      },
      "outputs": [
        {
          "data": {
            "text/plain": [
              "remoto\n",
              "0      105312\n",
              "100     27718\n",
              "50        319\n",
              "Name: count, dtype: int64"
            ]
          },
          "execution_count": 15,
          "metadata": {},
          "output_type": "execute_result"
        }
      ],
      "source": [
        "df['remoto'].value_counts()"
      ]
    },
    {
      "cell_type": "markdown",
      "metadata": {
        "id": "bk_bsh8q1ZzX"
      },
      "source": [
        "O modelo remoto permite trabalhar de qualquer lugar sem precisar ir à empresa. O modelo presencial exige ir até o escritório todos os dias. O híbrido mistura os dois modelos. O modelo 'everywhere' é mais raro e permite trabalhar de qualquer lugar do mundo sem restrição de país ou cidade."
      ]
    },
    {
      "cell_type": "markdown",
      "metadata": {
        "id": "WfM-HUGeIVDY"
      },
      "source": [
        "| Sigla | Significado |\n",
        "|-------|-------------|\n",
        "| 0     | Presencial  |\n",
        "| 100   | Remoto      |\n",
        "| 50    | Híbrido     |"
      ]
    },
    {
      "cell_type": "markdown",
      "metadata": {
        "id": "dQwYzhSRMve-"
      },
      "source": [
        "#### Tamanho da empresa"
      ]
    },
    {
      "cell_type": "code",
      "execution_count": 16,
      "metadata": {
        "colab": {
          "base_uri": "https://localhost:8080/",
          "height": 210
        },
        "id": "RfsK5Or70HMC",
        "outputId": "419ffee4-f89b-4cbd-fe76-b5e47cfa4282"
      },
      "outputs": [
        {
          "data": {
            "text/plain": [
              "tamanho_empresa\n",
              "M    129561\n",
              "L      3574\n",
              "S       214\n",
              "Name: count, dtype: int64"
            ]
          },
          "execution_count": 16,
          "metadata": {},
          "output_type": "execute_result"
        }
      ],
      "source": [
        "df['tamanho_empresa'].value_counts()"
      ]
    },
    {
      "cell_type": "markdown",
      "metadata": {
        "id": "6HSJ4vWQIBXV"
      },
      "source": [
        "| Sigla | Significado  | Descrição                                                           |\n",
        "|-------|--------------|----------------------------------------------------------------------|\n",
        "| M   | Medium    | Empresa de tamanho médio|\n",
        "| L    | Large    | Empresa de tamanho grande                                |\n",
        "| S    | Small    | Empresa de tamanho pequeno|\n"
      ]
    },
    {
      "cell_type": "markdown",
      "metadata": {
        "id": "RK2gAAcOJLmQ"
      },
      "source": [
        "### Modificando o nome das categorias:"
      ]
    },
    {
      "cell_type": "code",
      "execution_count": 17,
      "metadata": {
        "colab": {
          "base_uri": "https://localhost:8080/",
          "height": 241
        },
        "id": "gOrtOGVn2nVV",
        "outputId": "7be60f7b-1a00-402a-865d-fb6695272f23"
      },
      "outputs": [
        {
          "data": {
            "text/plain": [
              "senioridade\n",
              "senior       77241\n",
              "pleno        40465\n",
              "junior       12443\n",
              "executivo     3200\n",
              "Name: count, dtype: int64"
            ]
          },
          "execution_count": 17,
          "metadata": {},
          "output_type": "execute_result"
        }
      ],
      "source": [
        "senioridade = {\n",
        "    'SE': 'senior',\n",
        "    'MI': 'pleno',\n",
        "    'EN': 'junior',\n",
        "    'EX': 'executivo'\n",
        "}\n",
        "df['senioridade'] = df['senioridade'].replace(senioridade)\n",
        "df['senioridade'].value_counts()"
      ]
    },
    {
      "cell_type": "code",
      "execution_count": 18,
      "metadata": {
        "colab": {
          "base_uri": "https://localhost:8080/",
          "height": 241
        },
        "id": "oe8EUR-33XOM",
        "outputId": "eac4011f-3a0e-47c4-9529-5febfb18f25e"
      },
      "outputs": [
        {
          "data": {
            "text/plain": [
              "contrato\n",
              "integral      132563\n",
              "contrato         394\n",
              "parcial          376\n",
              "freelancer        16\n",
              "Name: count, dtype: int64"
            ]
          },
          "execution_count": 18,
          "metadata": {},
          "output_type": "execute_result"
        }
      ],
      "source": [
        "contrato = {\n",
        "    'FT': 'integral',\n",
        "    'PT': 'parcial',\n",
        "    'CT': 'contrato',\n",
        "    'FL': 'freelancer'\n",
        "}\n",
        "df['contrato'] = df['contrato'].replace(contrato)\n",
        "df['contrato'].value_counts()"
      ]
    },
    {
      "cell_type": "code",
      "execution_count": 19,
      "metadata": {
        "colab": {
          "base_uri": "https://localhost:8080/",
          "height": 210
        },
        "id": "EPZCuEgY256F",
        "outputId": "d2c02ad7-02b4-4ae3-b19e-7b33971c7ef7"
      },
      "outputs": [
        {
          "data": {
            "text/plain": [
              "tamanho_empresa\n",
              "media      129561\n",
              "grande       3574\n",
              "pequena       214\n",
              "Name: count, dtype: int64"
            ]
          },
          "execution_count": 19,
          "metadata": {},
          "output_type": "execute_result"
        }
      ],
      "source": [
        "tamanho_empresa = {\n",
        "    'L': 'grande',\n",
        "    'S': 'pequena',\n",
        "    'M':\t'media'\n",
        "\n",
        "}\n",
        "df['tamanho_empresa'] = df['tamanho_empresa'].replace(tamanho_empresa)\n",
        "df['tamanho_empresa'].value_counts()"
      ]
    },
    {
      "cell_type": "code",
      "execution_count": 20,
      "metadata": {
        "colab": {
          "base_uri": "https://localhost:8080/",
          "height": 210
        },
        "id": "kXwE3VEI1LWn",
        "outputId": "f61a99ab-a67d-447e-874c-cc206f0b86f2"
      },
      "outputs": [
        {
          "data": {
            "text/plain": [
              "remoto\n",
              "presencial    105312\n",
              "remoto         27718\n",
              "hibrido          319\n",
              "Name: count, dtype: int64"
            ]
          },
          "execution_count": 20,
          "metadata": {},
          "output_type": "execute_result"
        }
      ],
      "source": [
        "mapa_trabalho = {\n",
        "    0: 'presencial',\n",
        "    100: 'remoto',\n",
        "    50: 'hibrido'\n",
        "}\n",
        "\n",
        "df['remoto'] = df['remoto'].replace(mapa_trabalho)\n",
        "df['remoto'].value_counts()"
      ]
    },
    {
      "cell_type": "code",
      "execution_count": 21,
      "metadata": {
        "colab": {
          "base_uri": "https://localhost:8080/",
          "height": 206
        },
        "id": "jJyY-J-w3iMF",
        "outputId": "ba836426-ce53-4515-de1b-c38b17280010"
      },
      "outputs": [
        {
          "data": {
            "text/html": [
              "<div>\n",
              "<style scoped>\n",
              "    .dataframe tbody tr th:only-of-type {\n",
              "        vertical-align: middle;\n",
              "    }\n",
              "\n",
              "    .dataframe tbody tr th {\n",
              "        vertical-align: top;\n",
              "    }\n",
              "\n",
              "    .dataframe thead th {\n",
              "        text-align: right;\n",
              "    }\n",
              "</style>\n",
              "<table border=\"1\" class=\"dataframe\">\n",
              "  <thead>\n",
              "    <tr style=\"text-align: right;\">\n",
              "      <th></th>\n",
              "      <th>ano</th>\n",
              "      <th>senioridade</th>\n",
              "      <th>contrato</th>\n",
              "      <th>cargo</th>\n",
              "      <th>salario</th>\n",
              "      <th>moeda</th>\n",
              "      <th>usd</th>\n",
              "      <th>residencia</th>\n",
              "      <th>remoto</th>\n",
              "      <th>empresa</th>\n",
              "      <th>tamanho_empresa</th>\n",
              "    </tr>\n",
              "  </thead>\n",
              "  <tbody>\n",
              "    <tr>\n",
              "      <th>0</th>\n",
              "      <td>2025.0</td>\n",
              "      <td>senior</td>\n",
              "      <td>integral</td>\n",
              "      <td>Solutions Engineer</td>\n",
              "      <td>214000</td>\n",
              "      <td>USD</td>\n",
              "      <td>214000</td>\n",
              "      <td>US</td>\n",
              "      <td>remoto</td>\n",
              "      <td>US</td>\n",
              "      <td>media</td>\n",
              "    </tr>\n",
              "    <tr>\n",
              "      <th>1</th>\n",
              "      <td>2025.0</td>\n",
              "      <td>senior</td>\n",
              "      <td>integral</td>\n",
              "      <td>Solutions Engineer</td>\n",
              "      <td>136000</td>\n",
              "      <td>USD</td>\n",
              "      <td>136000</td>\n",
              "      <td>US</td>\n",
              "      <td>remoto</td>\n",
              "      <td>US</td>\n",
              "      <td>media</td>\n",
              "    </tr>\n",
              "    <tr>\n",
              "      <th>2</th>\n",
              "      <td>2025.0</td>\n",
              "      <td>pleno</td>\n",
              "      <td>integral</td>\n",
              "      <td>Data Engineer</td>\n",
              "      <td>158800</td>\n",
              "      <td>USD</td>\n",
              "      <td>158800</td>\n",
              "      <td>AU</td>\n",
              "      <td>presencial</td>\n",
              "      <td>AU</td>\n",
              "      <td>media</td>\n",
              "    </tr>\n",
              "    <tr>\n",
              "      <th>3</th>\n",
              "      <td>2025.0</td>\n",
              "      <td>pleno</td>\n",
              "      <td>integral</td>\n",
              "      <td>Data Engineer</td>\n",
              "      <td>139200</td>\n",
              "      <td>USD</td>\n",
              "      <td>139200</td>\n",
              "      <td>AU</td>\n",
              "      <td>presencial</td>\n",
              "      <td>AU</td>\n",
              "      <td>media</td>\n",
              "    </tr>\n",
              "    <tr>\n",
              "      <th>4</th>\n",
              "      <td>2025.0</td>\n",
              "      <td>junior</td>\n",
              "      <td>integral</td>\n",
              "      <td>Data Engineer</td>\n",
              "      <td>90000</td>\n",
              "      <td>USD</td>\n",
              "      <td>90000</td>\n",
              "      <td>US</td>\n",
              "      <td>presencial</td>\n",
              "      <td>US</td>\n",
              "      <td>media</td>\n",
              "    </tr>\n",
              "  </tbody>\n",
              "</table>\n",
              "</div>"
            ],
            "text/plain": [
              "      ano senioridade  contrato               cargo  salario moeda     usd  \\\n",
              "0  2025.0      senior  integral  Solutions Engineer   214000   USD  214000   \n",
              "1  2025.0      senior  integral  Solutions Engineer   136000   USD  136000   \n",
              "2  2025.0       pleno  integral       Data Engineer   158800   USD  158800   \n",
              "3  2025.0       pleno  integral       Data Engineer   139200   USD  139200   \n",
              "4  2025.0      junior  integral       Data Engineer    90000   USD   90000   \n",
              "\n",
              "  residencia      remoto empresa tamanho_empresa  \n",
              "0         US      remoto      US           media  \n",
              "1         US      remoto      US           media  \n",
              "2         AU  presencial      AU           media  \n",
              "3         AU  presencial      AU           media  \n",
              "4         US  presencial      US           media  "
            ]
          },
          "execution_count": 21,
          "metadata": {},
          "output_type": "execute_result"
        }
      ],
      "source": [
        "df.head()"
      ]
    },
    {
      "cell_type": "markdown",
      "metadata": {
        "id": "LjCF5O3H1EgI"
      },
      "source": [
        "Podemos também resumir as informações categóricas com o método `describe()`, exibindo a quantidade de categorias únicas, qual é categoria mais frequente e sua respectiva frequência:"
      ]
    },
    {
      "cell_type": "code",
      "execution_count": 22,
      "metadata": {
        "colab": {
          "base_uri": "https://localhost:8080/",
          "height": 175
        },
        "id": "fnePJ9aB0-96",
        "outputId": "4e8d0af2-cb93-4e49-aa45-eafdd7ff4163"
      },
      "outputs": [
        {
          "data": {
            "text/html": [
              "<div>\n",
              "<style scoped>\n",
              "    .dataframe tbody tr th:only-of-type {\n",
              "        vertical-align: middle;\n",
              "    }\n",
              "\n",
              "    .dataframe tbody tr th {\n",
              "        vertical-align: top;\n",
              "    }\n",
              "\n",
              "    .dataframe thead th {\n",
              "        text-align: right;\n",
              "    }\n",
              "</style>\n",
              "<table border=\"1\" class=\"dataframe\">\n",
              "  <thead>\n",
              "    <tr style=\"text-align: right;\">\n",
              "      <th></th>\n",
              "      <th>senioridade</th>\n",
              "      <th>contrato</th>\n",
              "      <th>cargo</th>\n",
              "      <th>moeda</th>\n",
              "      <th>residencia</th>\n",
              "      <th>remoto</th>\n",
              "      <th>empresa</th>\n",
              "      <th>tamanho_empresa</th>\n",
              "    </tr>\n",
              "  </thead>\n",
              "  <tbody>\n",
              "    <tr>\n",
              "      <th>count</th>\n",
              "      <td>133349</td>\n",
              "      <td>133349</td>\n",
              "      <td>133349</td>\n",
              "      <td>133349</td>\n",
              "      <td>133349</td>\n",
              "      <td>133349</td>\n",
              "      <td>133349</td>\n",
              "      <td>133349</td>\n",
              "    </tr>\n",
              "    <tr>\n",
              "      <th>unique</th>\n",
              "      <td>4</td>\n",
              "      <td>4</td>\n",
              "      <td>390</td>\n",
              "      <td>26</td>\n",
              "      <td>102</td>\n",
              "      <td>3</td>\n",
              "      <td>95</td>\n",
              "      <td>3</td>\n",
              "    </tr>\n",
              "    <tr>\n",
              "      <th>top</th>\n",
              "      <td>senior</td>\n",
              "      <td>integral</td>\n",
              "      <td>Data Scientist</td>\n",
              "      <td>USD</td>\n",
              "      <td>US</td>\n",
              "      <td>presencial</td>\n",
              "      <td>US</td>\n",
              "      <td>media</td>\n",
              "    </tr>\n",
              "    <tr>\n",
              "      <th>freq</th>\n",
              "      <td>77241</td>\n",
              "      <td>132563</td>\n",
              "      <td>17314</td>\n",
              "      <td>126140</td>\n",
              "      <td>119579</td>\n",
              "      <td>105312</td>\n",
              "      <td>119641</td>\n",
              "      <td>129561</td>\n",
              "    </tr>\n",
              "  </tbody>\n",
              "</table>\n",
              "</div>"
            ],
            "text/plain": [
              "       senioridade  contrato           cargo   moeda residencia      remoto  \\\n",
              "count       133349    133349          133349  133349     133349      133349   \n",
              "unique           4         4             390      26        102           3   \n",
              "top         senior  integral  Data Scientist     USD         US  presencial   \n",
              "freq         77241    132563           17314  126140     119579      105312   \n",
              "\n",
              "       empresa tamanho_empresa  \n",
              "count   133349          133349  \n",
              "unique      95               3  \n",
              "top         US           media  \n",
              "freq    119641          129561  "
            ]
          },
          "execution_count": 22,
          "metadata": {},
          "output_type": "execute_result"
        }
      ],
      "source": [
        "df.describe(include='object')"
      ]
    },
    {
      "cell_type": "markdown",
      "metadata": {
        "id": "6o6rZSmzLC3y"
      },
      "source": [
        "Com isso já conseguimos responder algumas perguntas, como:\n",
        "\n",
        "* Qual o nível de experiência mais comum na base de dados?\n",
        "* Qual é o tipo de contrato mais frequente?\n",
        "* Qual o cargo mais frequente na amostra?\n",
        "* De qual país são a maioria dos profissionais da base?\n",
        "* Qual é o país onde mais empresas da amostra estão sediadas?\n",
        "* Qual o regime de trabalho mais comum?\n",
        "* Qual é o tamanho mais comum das empresas na amostra?"
      ]
    },
    {
      "cell_type": "markdown",
      "metadata": {
        "id": "eBb5Evgw69OI"
      },
      "source": [
        "**O código é um passo a passo para entender, limpar e preparar a base de dados para análises mais profundas, facilitando a visualização de padrões e tendências no mercado de trabalho em ciência de dados.**"
      ]
    },
    {
      "cell_type": "markdown",
      "metadata": {
        "id": "niEWqAsK7Tf1"
      },
      "source": [
        "# Aula 2 - Preparação e limpeza dos Dados\n",
        "\n",
        "\n"
      ]
    },
    {
      "cell_type": "code",
      "execution_count": 23,
      "metadata": {
        "colab": {
          "base_uri": "https://localhost:8080/",
          "height": 424
        },
        "id": "_HA2dtUbZ53i",
        "outputId": "25e049ed-f3bb-4036-c8f4-ba6babc0967e"
      },
      "outputs": [
        {
          "data": {
            "text/html": [
              "<div>\n",
              "<style scoped>\n",
              "    .dataframe tbody tr th:only-of-type {\n",
              "        vertical-align: middle;\n",
              "    }\n",
              "\n",
              "    .dataframe tbody tr th {\n",
              "        vertical-align: top;\n",
              "    }\n",
              "\n",
              "    .dataframe thead th {\n",
              "        text-align: right;\n",
              "    }\n",
              "</style>\n",
              "<table border=\"1\" class=\"dataframe\">\n",
              "  <thead>\n",
              "    <tr style=\"text-align: right;\">\n",
              "      <th></th>\n",
              "      <th>ano</th>\n",
              "      <th>senioridade</th>\n",
              "      <th>contrato</th>\n",
              "      <th>cargo</th>\n",
              "      <th>salario</th>\n",
              "      <th>moeda</th>\n",
              "      <th>usd</th>\n",
              "      <th>residencia</th>\n",
              "      <th>remoto</th>\n",
              "      <th>empresa</th>\n",
              "      <th>tamanho_empresa</th>\n",
              "    </tr>\n",
              "  </thead>\n",
              "  <tbody>\n",
              "    <tr>\n",
              "      <th>0</th>\n",
              "      <td>False</td>\n",
              "      <td>False</td>\n",
              "      <td>False</td>\n",
              "      <td>False</td>\n",
              "      <td>False</td>\n",
              "      <td>False</td>\n",
              "      <td>False</td>\n",
              "      <td>False</td>\n",
              "      <td>False</td>\n",
              "      <td>False</td>\n",
              "      <td>False</td>\n",
              "    </tr>\n",
              "    <tr>\n",
              "      <th>1</th>\n",
              "      <td>False</td>\n",
              "      <td>False</td>\n",
              "      <td>False</td>\n",
              "      <td>False</td>\n",
              "      <td>False</td>\n",
              "      <td>False</td>\n",
              "      <td>False</td>\n",
              "      <td>False</td>\n",
              "      <td>False</td>\n",
              "      <td>False</td>\n",
              "      <td>False</td>\n",
              "    </tr>\n",
              "    <tr>\n",
              "      <th>2</th>\n",
              "      <td>False</td>\n",
              "      <td>False</td>\n",
              "      <td>False</td>\n",
              "      <td>False</td>\n",
              "      <td>False</td>\n",
              "      <td>False</td>\n",
              "      <td>False</td>\n",
              "      <td>False</td>\n",
              "      <td>False</td>\n",
              "      <td>False</td>\n",
              "      <td>False</td>\n",
              "    </tr>\n",
              "    <tr>\n",
              "      <th>3</th>\n",
              "      <td>False</td>\n",
              "      <td>False</td>\n",
              "      <td>False</td>\n",
              "      <td>False</td>\n",
              "      <td>False</td>\n",
              "      <td>False</td>\n",
              "      <td>False</td>\n",
              "      <td>False</td>\n",
              "      <td>False</td>\n",
              "      <td>False</td>\n",
              "      <td>False</td>\n",
              "    </tr>\n",
              "    <tr>\n",
              "      <th>4</th>\n",
              "      <td>False</td>\n",
              "      <td>False</td>\n",
              "      <td>False</td>\n",
              "      <td>False</td>\n",
              "      <td>False</td>\n",
              "      <td>False</td>\n",
              "      <td>False</td>\n",
              "      <td>False</td>\n",
              "      <td>False</td>\n",
              "      <td>False</td>\n",
              "      <td>False</td>\n",
              "    </tr>\n",
              "    <tr>\n",
              "      <th>...</th>\n",
              "      <td>...</td>\n",
              "      <td>...</td>\n",
              "      <td>...</td>\n",
              "      <td>...</td>\n",
              "      <td>...</td>\n",
              "      <td>...</td>\n",
              "      <td>...</td>\n",
              "      <td>...</td>\n",
              "      <td>...</td>\n",
              "      <td>...</td>\n",
              "      <td>...</td>\n",
              "    </tr>\n",
              "    <tr>\n",
              "      <th>133344</th>\n",
              "      <td>False</td>\n",
              "      <td>False</td>\n",
              "      <td>False</td>\n",
              "      <td>False</td>\n",
              "      <td>False</td>\n",
              "      <td>False</td>\n",
              "      <td>False</td>\n",
              "      <td>False</td>\n",
              "      <td>False</td>\n",
              "      <td>False</td>\n",
              "      <td>False</td>\n",
              "    </tr>\n",
              "    <tr>\n",
              "      <th>133345</th>\n",
              "      <td>False</td>\n",
              "      <td>False</td>\n",
              "      <td>False</td>\n",
              "      <td>False</td>\n",
              "      <td>False</td>\n",
              "      <td>False</td>\n",
              "      <td>False</td>\n",
              "      <td>False</td>\n",
              "      <td>False</td>\n",
              "      <td>False</td>\n",
              "      <td>False</td>\n",
              "    </tr>\n",
              "    <tr>\n",
              "      <th>133346</th>\n",
              "      <td>False</td>\n",
              "      <td>False</td>\n",
              "      <td>False</td>\n",
              "      <td>False</td>\n",
              "      <td>False</td>\n",
              "      <td>False</td>\n",
              "      <td>False</td>\n",
              "      <td>False</td>\n",
              "      <td>False</td>\n",
              "      <td>False</td>\n",
              "      <td>False</td>\n",
              "    </tr>\n",
              "    <tr>\n",
              "      <th>133347</th>\n",
              "      <td>False</td>\n",
              "      <td>False</td>\n",
              "      <td>False</td>\n",
              "      <td>False</td>\n",
              "      <td>False</td>\n",
              "      <td>False</td>\n",
              "      <td>False</td>\n",
              "      <td>False</td>\n",
              "      <td>False</td>\n",
              "      <td>False</td>\n",
              "      <td>False</td>\n",
              "    </tr>\n",
              "    <tr>\n",
              "      <th>133348</th>\n",
              "      <td>False</td>\n",
              "      <td>False</td>\n",
              "      <td>False</td>\n",
              "      <td>False</td>\n",
              "      <td>False</td>\n",
              "      <td>False</td>\n",
              "      <td>False</td>\n",
              "      <td>False</td>\n",
              "      <td>False</td>\n",
              "      <td>False</td>\n",
              "      <td>False</td>\n",
              "    </tr>\n",
              "  </tbody>\n",
              "</table>\n",
              "<p>133349 rows × 11 columns</p>\n",
              "</div>"
            ],
            "text/plain": [
              "          ano  senioridade  contrato  cargo  salario  moeda    usd  \\\n",
              "0       False        False     False  False    False  False  False   \n",
              "1       False        False     False  False    False  False  False   \n",
              "2       False        False     False  False    False  False  False   \n",
              "3       False        False     False  False    False  False  False   \n",
              "4       False        False     False  False    False  False  False   \n",
              "...       ...          ...       ...    ...      ...    ...    ...   \n",
              "133344  False        False     False  False    False  False  False   \n",
              "133345  False        False     False  False    False  False  False   \n",
              "133346  False        False     False  False    False  False  False   \n",
              "133347  False        False     False  False    False  False  False   \n",
              "133348  False        False     False  False    False  False  False   \n",
              "\n",
              "        residencia  remoto  empresa  tamanho_empresa  \n",
              "0            False   False    False            False  \n",
              "1            False   False    False            False  \n",
              "2            False   False    False            False  \n",
              "3            False   False    False            False  \n",
              "4            False   False    False            False  \n",
              "...            ...     ...      ...              ...  \n",
              "133344       False   False    False            False  \n",
              "133345       False   False    False            False  \n",
              "133346       False   False    False            False  \n",
              "133347       False   False    False            False  \n",
              "133348       False   False    False            False  \n",
              "\n",
              "[133349 rows x 11 columns]"
            ]
          },
          "execution_count": 23,
          "metadata": {},
          "output_type": "execute_result"
        }
      ],
      "source": [
        "df.isnull()"
      ]
    },
    {
      "cell_type": "code",
      "execution_count": 24,
      "metadata": {
        "colab": {
          "base_uri": "https://localhost:8080/",
          "height": 206
        },
        "id": "KNn1075EhGnS",
        "outputId": "d6194ff3-7f55-4d8d-e2e0-4940b1d3dca4"
      },
      "outputs": [
        {
          "data": {
            "text/html": [
              "<div>\n",
              "<style scoped>\n",
              "    .dataframe tbody tr th:only-of-type {\n",
              "        vertical-align: middle;\n",
              "    }\n",
              "\n",
              "    .dataframe tbody tr th {\n",
              "        vertical-align: top;\n",
              "    }\n",
              "\n",
              "    .dataframe thead th {\n",
              "        text-align: right;\n",
              "    }\n",
              "</style>\n",
              "<table border=\"1\" class=\"dataframe\">\n",
              "  <thead>\n",
              "    <tr style=\"text-align: right;\">\n",
              "      <th></th>\n",
              "      <th>ano</th>\n",
              "      <th>senioridade</th>\n",
              "      <th>contrato</th>\n",
              "      <th>cargo</th>\n",
              "      <th>salario</th>\n",
              "      <th>moeda</th>\n",
              "      <th>usd</th>\n",
              "      <th>residencia</th>\n",
              "      <th>remoto</th>\n",
              "      <th>empresa</th>\n",
              "      <th>tamanho_empresa</th>\n",
              "    </tr>\n",
              "  </thead>\n",
              "  <tbody>\n",
              "    <tr>\n",
              "      <th>0</th>\n",
              "      <td>2025.0</td>\n",
              "      <td>senior</td>\n",
              "      <td>integral</td>\n",
              "      <td>Solutions Engineer</td>\n",
              "      <td>214000</td>\n",
              "      <td>USD</td>\n",
              "      <td>214000</td>\n",
              "      <td>US</td>\n",
              "      <td>remoto</td>\n",
              "      <td>US</td>\n",
              "      <td>media</td>\n",
              "    </tr>\n",
              "    <tr>\n",
              "      <th>1</th>\n",
              "      <td>2025.0</td>\n",
              "      <td>senior</td>\n",
              "      <td>integral</td>\n",
              "      <td>Solutions Engineer</td>\n",
              "      <td>136000</td>\n",
              "      <td>USD</td>\n",
              "      <td>136000</td>\n",
              "      <td>US</td>\n",
              "      <td>remoto</td>\n",
              "      <td>US</td>\n",
              "      <td>media</td>\n",
              "    </tr>\n",
              "    <tr>\n",
              "      <th>2</th>\n",
              "      <td>2025.0</td>\n",
              "      <td>pleno</td>\n",
              "      <td>integral</td>\n",
              "      <td>Data Engineer</td>\n",
              "      <td>158800</td>\n",
              "      <td>USD</td>\n",
              "      <td>158800</td>\n",
              "      <td>AU</td>\n",
              "      <td>presencial</td>\n",
              "      <td>AU</td>\n",
              "      <td>media</td>\n",
              "    </tr>\n",
              "    <tr>\n",
              "      <th>3</th>\n",
              "      <td>2025.0</td>\n",
              "      <td>pleno</td>\n",
              "      <td>integral</td>\n",
              "      <td>Data Engineer</td>\n",
              "      <td>139200</td>\n",
              "      <td>USD</td>\n",
              "      <td>139200</td>\n",
              "      <td>AU</td>\n",
              "      <td>presencial</td>\n",
              "      <td>AU</td>\n",
              "      <td>media</td>\n",
              "    </tr>\n",
              "    <tr>\n",
              "      <th>4</th>\n",
              "      <td>2025.0</td>\n",
              "      <td>junior</td>\n",
              "      <td>integral</td>\n",
              "      <td>Data Engineer</td>\n",
              "      <td>90000</td>\n",
              "      <td>USD</td>\n",
              "      <td>90000</td>\n",
              "      <td>US</td>\n",
              "      <td>presencial</td>\n",
              "      <td>US</td>\n",
              "      <td>media</td>\n",
              "    </tr>\n",
              "  </tbody>\n",
              "</table>\n",
              "</div>"
            ],
            "text/plain": [
              "      ano senioridade  contrato               cargo  salario moeda     usd  \\\n",
              "0  2025.0      senior  integral  Solutions Engineer   214000   USD  214000   \n",
              "1  2025.0      senior  integral  Solutions Engineer   136000   USD  136000   \n",
              "2  2025.0       pleno  integral       Data Engineer   158800   USD  158800   \n",
              "3  2025.0       pleno  integral       Data Engineer   139200   USD  139200   \n",
              "4  2025.0      junior  integral       Data Engineer    90000   USD   90000   \n",
              "\n",
              "  residencia      remoto empresa tamanho_empresa  \n",
              "0         US      remoto      US           media  \n",
              "1         US      remoto      US           media  \n",
              "2         AU  presencial      AU           media  \n",
              "3         AU  presencial      AU           media  \n",
              "4         US  presencial      US           media  "
            ]
          },
          "execution_count": 24,
          "metadata": {},
          "output_type": "execute_result"
        }
      ],
      "source": [
        "df.head()"
      ]
    },
    {
      "cell_type": "code",
      "execution_count": 25,
      "metadata": {
        "colab": {
          "base_uri": "https://localhost:8080/",
          "height": 429
        },
        "id": "HzmV6VKXhaQ2",
        "outputId": "e1d17dac-85ff-4e61-d5ad-e06eeb00e23e"
      },
      "outputs": [
        {
          "data": {
            "text/plain": [
              "ano                10\n",
              "senioridade         0\n",
              "contrato            0\n",
              "cargo               0\n",
              "salario             0\n",
              "moeda               0\n",
              "usd                 0\n",
              "residencia          0\n",
              "remoto              0\n",
              "empresa             0\n",
              "tamanho_empresa     0\n",
              "dtype: int64"
            ]
          },
          "execution_count": 25,
          "metadata": {},
          "output_type": "execute_result"
        }
      ],
      "source": [
        "df.isnull().sum()"
      ]
    },
    {
      "cell_type": "code",
      "execution_count": 26,
      "metadata": {
        "colab": {
          "base_uri": "https://localhost:8080/"
        },
        "id": "3Hkx81sRhtZT",
        "outputId": "c08a248b-5a94-4adb-efdb-329d055ed7e9"
      },
      "outputs": [
        {
          "data": {
            "text/plain": [
              "array([2025.,   nan, 2024., 2022., 2023., 2020., 2021.])"
            ]
          },
          "execution_count": 26,
          "metadata": {},
          "output_type": "execute_result"
        }
      ],
      "source": [
        "df['ano'].unique()"
      ]
    },
    {
      "cell_type": "code",
      "execution_count": 27,
      "metadata": {
        "colab": {
          "base_uri": "https://localhost:8080/",
          "height": 363
        },
        "id": "dG2fciyyiBv9",
        "outputId": "8e9216fc-a813-41f5-b600-424b1a0b177d"
      },
      "outputs": [
        {
          "data": {
            "text/html": [
              "<div>\n",
              "<style scoped>\n",
              "    .dataframe tbody tr th:only-of-type {\n",
              "        vertical-align: middle;\n",
              "    }\n",
              "\n",
              "    .dataframe tbody tr th {\n",
              "        vertical-align: top;\n",
              "    }\n",
              "\n",
              "    .dataframe thead th {\n",
              "        text-align: right;\n",
              "    }\n",
              "</style>\n",
              "<table border=\"1\" class=\"dataframe\">\n",
              "  <thead>\n",
              "    <tr style=\"text-align: right;\">\n",
              "      <th></th>\n",
              "      <th>ano</th>\n",
              "      <th>senioridade</th>\n",
              "      <th>contrato</th>\n",
              "      <th>cargo</th>\n",
              "      <th>salario</th>\n",
              "      <th>moeda</th>\n",
              "      <th>usd</th>\n",
              "      <th>residencia</th>\n",
              "      <th>remoto</th>\n",
              "      <th>empresa</th>\n",
              "      <th>tamanho_empresa</th>\n",
              "    </tr>\n",
              "  </thead>\n",
              "  <tbody>\n",
              "    <tr>\n",
              "      <th>5588</th>\n",
              "      <td>NaN</td>\n",
              "      <td>senior</td>\n",
              "      <td>integral</td>\n",
              "      <td>Product Manager</td>\n",
              "      <td>184500</td>\n",
              "      <td>USD</td>\n",
              "      <td>184500</td>\n",
              "      <td>US</td>\n",
              "      <td>presencial</td>\n",
              "      <td>US</td>\n",
              "      <td>media</td>\n",
              "    </tr>\n",
              "    <tr>\n",
              "      <th>59692</th>\n",
              "      <td>NaN</td>\n",
              "      <td>pleno</td>\n",
              "      <td>integral</td>\n",
              "      <td>Engineer</td>\n",
              "      <td>110000</td>\n",
              "      <td>USD</td>\n",
              "      <td>110000</td>\n",
              "      <td>DE</td>\n",
              "      <td>presencial</td>\n",
              "      <td>DE</td>\n",
              "      <td>media</td>\n",
              "    </tr>\n",
              "    <tr>\n",
              "      <th>59710</th>\n",
              "      <td>NaN</td>\n",
              "      <td>junior</td>\n",
              "      <td>integral</td>\n",
              "      <td>Data Scientist</td>\n",
              "      <td>208800</td>\n",
              "      <td>USD</td>\n",
              "      <td>208800</td>\n",
              "      <td>US</td>\n",
              "      <td>presencial</td>\n",
              "      <td>US</td>\n",
              "      <td>media</td>\n",
              "    </tr>\n",
              "    <tr>\n",
              "      <th>59759</th>\n",
              "      <td>NaN</td>\n",
              "      <td>senior</td>\n",
              "      <td>integral</td>\n",
              "      <td>Software Engineer</td>\n",
              "      <td>135000</td>\n",
              "      <td>USD</td>\n",
              "      <td>135000</td>\n",
              "      <td>US</td>\n",
              "      <td>presencial</td>\n",
              "      <td>US</td>\n",
              "      <td>media</td>\n",
              "    </tr>\n",
              "    <tr>\n",
              "      <th>59789</th>\n",
              "      <td>NaN</td>\n",
              "      <td>senior</td>\n",
              "      <td>integral</td>\n",
              "      <td>Engineer</td>\n",
              "      <td>112000</td>\n",
              "      <td>USD</td>\n",
              "      <td>112000</td>\n",
              "      <td>US</td>\n",
              "      <td>presencial</td>\n",
              "      <td>US</td>\n",
              "      <td>media</td>\n",
              "    </tr>\n",
              "    <tr>\n",
              "      <th>131000</th>\n",
              "      <td>NaN</td>\n",
              "      <td>senior</td>\n",
              "      <td>integral</td>\n",
              "      <td>Machine Learning Engineer</td>\n",
              "      <td>163800</td>\n",
              "      <td>USD</td>\n",
              "      <td>163800</td>\n",
              "      <td>US</td>\n",
              "      <td>presencial</td>\n",
              "      <td>US</td>\n",
              "      <td>media</td>\n",
              "    </tr>\n",
              "    <tr>\n",
              "      <th>131006</th>\n",
              "      <td>NaN</td>\n",
              "      <td>senior</td>\n",
              "      <td>integral</td>\n",
              "      <td>Data Analytics Manager</td>\n",
              "      <td>204500</td>\n",
              "      <td>USD</td>\n",
              "      <td>204500</td>\n",
              "      <td>US</td>\n",
              "      <td>presencial</td>\n",
              "      <td>US</td>\n",
              "      <td>media</td>\n",
              "    </tr>\n",
              "    <tr>\n",
              "      <th>133054</th>\n",
              "      <td>NaN</td>\n",
              "      <td>junior</td>\n",
              "      <td>integral</td>\n",
              "      <td>Data Scientist</td>\n",
              "      <td>40000</td>\n",
              "      <td>USD</td>\n",
              "      <td>40000</td>\n",
              "      <td>JP</td>\n",
              "      <td>remoto</td>\n",
              "      <td>MY</td>\n",
              "      <td>grande</td>\n",
              "    </tr>\n",
              "    <tr>\n",
              "      <th>133281</th>\n",
              "      <td>NaN</td>\n",
              "      <td>pleno</td>\n",
              "      <td>integral</td>\n",
              "      <td>Machine Learning Engineer</td>\n",
              "      <td>180000</td>\n",
              "      <td>PLN</td>\n",
              "      <td>46597</td>\n",
              "      <td>PL</td>\n",
              "      <td>remoto</td>\n",
              "      <td>PL</td>\n",
              "      <td>grande</td>\n",
              "    </tr>\n",
              "    <tr>\n",
              "      <th>133317</th>\n",
              "      <td>NaN</td>\n",
              "      <td>pleno</td>\n",
              "      <td>integral</td>\n",
              "      <td>Data Scientist</td>\n",
              "      <td>130000</td>\n",
              "      <td>USD</td>\n",
              "      <td>130000</td>\n",
              "      <td>US</td>\n",
              "      <td>hibrido</td>\n",
              "      <td>US</td>\n",
              "      <td>grande</td>\n",
              "    </tr>\n",
              "  </tbody>\n",
              "</table>\n",
              "</div>"
            ],
            "text/plain": [
              "        ano senioridade  contrato                      cargo  salario moeda  \\\n",
              "5588    NaN      senior  integral            Product Manager   184500   USD   \n",
              "59692   NaN       pleno  integral                   Engineer   110000   USD   \n",
              "59710   NaN      junior  integral             Data Scientist   208800   USD   \n",
              "59759   NaN      senior  integral          Software Engineer   135000   USD   \n",
              "59789   NaN      senior  integral                   Engineer   112000   USD   \n",
              "131000  NaN      senior  integral  Machine Learning Engineer   163800   USD   \n",
              "131006  NaN      senior  integral     Data Analytics Manager   204500   USD   \n",
              "133054  NaN      junior  integral             Data Scientist    40000   USD   \n",
              "133281  NaN       pleno  integral  Machine Learning Engineer   180000   PLN   \n",
              "133317  NaN       pleno  integral             Data Scientist   130000   USD   \n",
              "\n",
              "           usd residencia      remoto empresa tamanho_empresa  \n",
              "5588    184500         US  presencial      US           media  \n",
              "59692   110000         DE  presencial      DE           media  \n",
              "59710   208800         US  presencial      US           media  \n",
              "59759   135000         US  presencial      US           media  \n",
              "59789   112000         US  presencial      US           media  \n",
              "131000  163800         US  presencial      US           media  \n",
              "131006  204500         US  presencial      US           media  \n",
              "133054   40000         JP      remoto      MY          grande  \n",
              "133281   46597         PL      remoto      PL          grande  \n",
              "133317  130000         US     hibrido      US          grande  "
            ]
          },
          "execution_count": 27,
          "metadata": {},
          "output_type": "execute_result"
        }
      ],
      "source": [
        "df[df.isnull().any(axis=1)]"
      ]
    },
    {
      "cell_type": "code",
      "execution_count": 28,
      "metadata": {
        "colab": {
          "base_uri": "https://localhost:8080/",
          "height": 206
        },
        "id": "vNkQqbtgjDBl",
        "outputId": "cf48036e-5a00-40d3-f5f0-900833b0f454"
      },
      "outputs": [
        {
          "data": {
            "text/html": [
              "<div>\n",
              "<style scoped>\n",
              "    .dataframe tbody tr th:only-of-type {\n",
              "        vertical-align: middle;\n",
              "    }\n",
              "\n",
              "    .dataframe tbody tr th {\n",
              "        vertical-align: top;\n",
              "    }\n",
              "\n",
              "    .dataframe thead th {\n",
              "        text-align: right;\n",
              "    }\n",
              "</style>\n",
              "<table border=\"1\" class=\"dataframe\">\n",
              "  <thead>\n",
              "    <tr style=\"text-align: right;\">\n",
              "      <th></th>\n",
              "      <th>nome</th>\n",
              "      <th>salario</th>\n",
              "      <th>salario_media</th>\n",
              "      <th>salario_mediana</th>\n",
              "    </tr>\n",
              "  </thead>\n",
              "  <tbody>\n",
              "    <tr>\n",
              "      <th>0</th>\n",
              "      <td>Ana</td>\n",
              "      <td>4000.0</td>\n",
              "      <td>4000.00</td>\n",
              "      <td>4000.0</td>\n",
              "    </tr>\n",
              "    <tr>\n",
              "      <th>1</th>\n",
              "      <td>Bruno</td>\n",
              "      <td>NaN</td>\n",
              "      <td>36333.33</td>\n",
              "      <td>5000.0</td>\n",
              "    </tr>\n",
              "    <tr>\n",
              "      <th>2</th>\n",
              "      <td>Carlos</td>\n",
              "      <td>5000.0</td>\n",
              "      <td>5000.00</td>\n",
              "      <td>5000.0</td>\n",
              "    </tr>\n",
              "    <tr>\n",
              "      <th>3</th>\n",
              "      <td>Daniele</td>\n",
              "      <td>NaN</td>\n",
              "      <td>36333.33</td>\n",
              "      <td>5000.0</td>\n",
              "    </tr>\n",
              "    <tr>\n",
              "      <th>4</th>\n",
              "      <td>Val</td>\n",
              "      <td>100000.0</td>\n",
              "      <td>100000.00</td>\n",
              "      <td>100000.0</td>\n",
              "    </tr>\n",
              "  </tbody>\n",
              "</table>\n",
              "</div>"
            ],
            "text/plain": [
              "      nome   salario  salario_media  salario_mediana\n",
              "0      Ana    4000.0        4000.00           4000.0\n",
              "1    Bruno       NaN       36333.33           5000.0\n",
              "2   Carlos    5000.0        5000.00           5000.0\n",
              "3  Daniele       NaN       36333.33           5000.0\n",
              "4      Val  100000.0      100000.00         100000.0"
            ]
          },
          "execution_count": 28,
          "metadata": {},
          "output_type": "execute_result"
        }
      ],
      "source": [
        "import numpy as np\n",
        "\n",
        "# Criação de um dataframe de teste para usar de exemplo\n",
        "df_salarios = pd.DataFrame({\n",
        "    'nome': [\"Ana\", \"Bruno\", \"Carlos\", \"Daniele\", \"Val\"],\n",
        "    'salario': [4000, np.nan, 5000, np.nan, 100000]\n",
        "})\n",
        "\n",
        "# calcula a média salarial e substitui os nulos pela média e arrededonda os valores\n",
        "df_salarios['salario_media'] = df_salarios['salario'].fillna(df_salarios['salario'].mean().round(2))\n",
        "\n",
        "'''Calcula mediana e substitui os nulos pela mediana\n",
        "'''\n",
        "\n",
        "df_salarios['salario_mediana'] = df_salarios['salario'].fillna(df_salarios['salario'].median())\n",
        "\n",
        "df_salarios"
      ]
    },
    {
      "cell_type": "code",
      "execution_count": 29,
      "metadata": {
        "colab": {
          "base_uri": "https://localhost:8080/",
          "height": 206
        },
        "id": "tGJCEhRPnV4H",
        "outputId": "447c47a6-9643-4f84-def3-a8da6411c3d5"
      },
      "outputs": [
        {
          "data": {
            "text/html": [
              "<div>\n",
              "<style scoped>\n",
              "    .dataframe tbody tr th:only-of-type {\n",
              "        vertical-align: middle;\n",
              "    }\n",
              "\n",
              "    .dataframe tbody tr th {\n",
              "        vertical-align: top;\n",
              "    }\n",
              "\n",
              "    .dataframe thead th {\n",
              "        text-align: right;\n",
              "    }\n",
              "</style>\n",
              "<table border=\"1\" class=\"dataframe\">\n",
              "  <thead>\n",
              "    <tr style=\"text-align: right;\">\n",
              "      <th></th>\n",
              "      <th>Dia</th>\n",
              "      <th>Temperatura</th>\n",
              "      <th>preenchido_ffill</th>\n",
              "    </tr>\n",
              "  </thead>\n",
              "  <tbody>\n",
              "    <tr>\n",
              "      <th>0</th>\n",
              "      <td>Segunda</td>\n",
              "      <td>30.0</td>\n",
              "      <td>30.0</td>\n",
              "    </tr>\n",
              "    <tr>\n",
              "      <th>1</th>\n",
              "      <td>Terça</td>\n",
              "      <td>NaN</td>\n",
              "      <td>30.0</td>\n",
              "    </tr>\n",
              "    <tr>\n",
              "      <th>2</th>\n",
              "      <td>Quarta</td>\n",
              "      <td>NaN</td>\n",
              "      <td>30.0</td>\n",
              "    </tr>\n",
              "    <tr>\n",
              "      <th>3</th>\n",
              "      <td>Quinta</td>\n",
              "      <td>28.0</td>\n",
              "      <td>28.0</td>\n",
              "    </tr>\n",
              "    <tr>\n",
              "      <th>4</th>\n",
              "      <td>Sexta</td>\n",
              "      <td>27.0</td>\n",
              "      <td>27.0</td>\n",
              "    </tr>\n",
              "  </tbody>\n",
              "</table>\n",
              "</div>"
            ],
            "text/plain": [
              "       Dia  Temperatura  preenchido_ffill\n",
              "0  Segunda         30.0              30.0\n",
              "1    Terça          NaN              30.0\n",
              "2   Quarta          NaN              30.0\n",
              "3   Quinta         28.0              28.0\n",
              "4    Sexta         27.0              27.0"
            ]
          },
          "execution_count": 29,
          "metadata": {},
          "output_type": "execute_result"
        }
      ],
      "source": [
        "df_temperaturas = pd.DataFrame({\n",
        "    \"Dia\": [\"Segunda\", \"Terça\", \"Quarta\", \"Quinta\", \"Sexta\"],\n",
        "    \"Temperatura\": [30, np.nan, np.nan, 28, 27]\n",
        "})\n",
        "\n",
        "df_temperaturas[\"preenchido_ffill\"] = df_temperaturas[\"Temperatura\"].ffill()\n",
        "df_temperaturas"
      ]
    },
    {
      "cell_type": "code",
      "execution_count": 30,
      "metadata": {
        "colab": {
          "base_uri": "https://localhost:8080/",
          "height": 206
        },
        "id": "SKOZTvhGotop",
        "outputId": "38be2e72-ad56-4256-9f4f-e58476d28ded"
      },
      "outputs": [
        {
          "data": {
            "text/html": [
              "<div>\n",
              "<style scoped>\n",
              "    .dataframe tbody tr th:only-of-type {\n",
              "        vertical-align: middle;\n",
              "    }\n",
              "\n",
              "    .dataframe tbody tr th {\n",
              "        vertical-align: top;\n",
              "    }\n",
              "\n",
              "    .dataframe thead th {\n",
              "        text-align: right;\n",
              "    }\n",
              "</style>\n",
              "<table border=\"1\" class=\"dataframe\">\n",
              "  <thead>\n",
              "    <tr style=\"text-align: right;\">\n",
              "      <th></th>\n",
              "      <th>Dia</th>\n",
              "      <th>Temperatura</th>\n",
              "      <th>preenchido_bfill</th>\n",
              "    </tr>\n",
              "  </thead>\n",
              "  <tbody>\n",
              "    <tr>\n",
              "      <th>0</th>\n",
              "      <td>Segunda</td>\n",
              "      <td>30.0</td>\n",
              "      <td>30.0</td>\n",
              "    </tr>\n",
              "    <tr>\n",
              "      <th>1</th>\n",
              "      <td>Terça</td>\n",
              "      <td>NaN</td>\n",
              "      <td>28.0</td>\n",
              "    </tr>\n",
              "    <tr>\n",
              "      <th>2</th>\n",
              "      <td>Quarta</td>\n",
              "      <td>NaN</td>\n",
              "      <td>28.0</td>\n",
              "    </tr>\n",
              "    <tr>\n",
              "      <th>3</th>\n",
              "      <td>Quinta</td>\n",
              "      <td>28.0</td>\n",
              "      <td>28.0</td>\n",
              "    </tr>\n",
              "    <tr>\n",
              "      <th>4</th>\n",
              "      <td>Sexta</td>\n",
              "      <td>27.0</td>\n",
              "      <td>27.0</td>\n",
              "    </tr>\n",
              "  </tbody>\n",
              "</table>\n",
              "</div>"
            ],
            "text/plain": [
              "       Dia  Temperatura  preenchido_bfill\n",
              "0  Segunda         30.0              30.0\n",
              "1    Terça          NaN              28.0\n",
              "2   Quarta          NaN              28.0\n",
              "3   Quinta         28.0              28.0\n",
              "4    Sexta         27.0              27.0"
            ]
          },
          "execution_count": 30,
          "metadata": {},
          "output_type": "execute_result"
        }
      ],
      "source": [
        "df_temperaturas = pd.DataFrame({\n",
        "    \"Dia\": [\"Segunda\", \"Terça\", \"Quarta\", \"Quinta\", \"Sexta\"],\n",
        "    \"Temperatura\": [30, np.nan, np.nan, 28, 27]\n",
        "})\n",
        "\n",
        "df_temperaturas[\"preenchido_bfill\"] = df_temperaturas[\"Temperatura\"].bfill()\n",
        "df_temperaturas"
      ]
    },
    {
      "cell_type": "code",
      "execution_count": 31,
      "metadata": {
        "colab": {
          "base_uri": "https://localhost:8080/",
          "height": 206
        },
        "id": "FN3SbIOophIR",
        "outputId": "8df70e68-5edc-4e1a-88cb-c05ec9ea4158"
      },
      "outputs": [
        {
          "data": {
            "text/html": [
              "<div>\n",
              "<style scoped>\n",
              "    .dataframe tbody tr th:only-of-type {\n",
              "        vertical-align: middle;\n",
              "    }\n",
              "\n",
              "    .dataframe tbody tr th {\n",
              "        vertical-align: top;\n",
              "    }\n",
              "\n",
              "    .dataframe thead th {\n",
              "        text-align: right;\n",
              "    }\n",
              "</style>\n",
              "<table border=\"1\" class=\"dataframe\">\n",
              "  <thead>\n",
              "    <tr style=\"text-align: right;\">\n",
              "      <th></th>\n",
              "      <th>nome</th>\n",
              "      <th>cidade</th>\n",
              "      <th>cidade_preenchida</th>\n",
              "    </tr>\n",
              "  </thead>\n",
              "  <tbody>\n",
              "    <tr>\n",
              "      <th>0</th>\n",
              "      <td>Ana</td>\n",
              "      <td>São Paulo</td>\n",
              "      <td>São Paulo</td>\n",
              "    </tr>\n",
              "    <tr>\n",
              "      <th>1</th>\n",
              "      <td>Bruno</td>\n",
              "      <td>NaN</td>\n",
              "      <td>Não informado</td>\n",
              "    </tr>\n",
              "    <tr>\n",
              "      <th>2</th>\n",
              "      <td>Carlos</td>\n",
              "      <td>Curitiba</td>\n",
              "      <td>Curitiba</td>\n",
              "    </tr>\n",
              "    <tr>\n",
              "      <th>3</th>\n",
              "      <td>Daniele</td>\n",
              "      <td>NaN</td>\n",
              "      <td>Não informado</td>\n",
              "    </tr>\n",
              "    <tr>\n",
              "      <th>4</th>\n",
              "      <td>Val</td>\n",
              "      <td>Belém</td>\n",
              "      <td>Belém</td>\n",
              "    </tr>\n",
              "  </tbody>\n",
              "</table>\n",
              "</div>"
            ],
            "text/plain": [
              "      nome     cidade cidade_preenchida\n",
              "0      Ana  São Paulo         São Paulo\n",
              "1    Bruno        NaN     Não informado\n",
              "2   Carlos   Curitiba          Curitiba\n",
              "3  Daniele        NaN     Não informado\n",
              "4      Val      Belém             Belém"
            ]
          },
          "metadata": {},
          "output_type": "display_data"
        }
      ],
      "source": [
        "df_cidades = pd.DataFrame({\n",
        "    'nome': [\"Ana\", \"Bruno\", \"Carlos\", \"Daniele\", \"Val\"],\n",
        "    'cidade': [\"São Paulo\", np.nan, \"Curitiba\", np.nan, \"Belém\"]\n",
        "})\n",
        "\n",
        "df_cidades['cidade_preenchida'] = df_cidades[\"cidade\"].fillna(\"Não informado\")\n",
        "display(df_cidades)"
      ]
    },
    {
      "cell_type": "code",
      "execution_count": 32,
      "metadata": {
        "id": "hkovZHCDrlM0"
      },
      "outputs": [],
      "source": [
        "df_limpo = df.dropna()"
      ]
    },
    {
      "cell_type": "code",
      "execution_count": 33,
      "metadata": {
        "colab": {
          "base_uri": "https://localhost:8080/",
          "height": 429
        },
        "id": "5Qxgwotir2MR",
        "outputId": "f57867e6-250c-41f8-9017-b72cc33e69d6"
      },
      "outputs": [
        {
          "data": {
            "text/plain": [
              "ano                0\n",
              "senioridade        0\n",
              "contrato           0\n",
              "cargo              0\n",
              "salario            0\n",
              "moeda              0\n",
              "usd                0\n",
              "residencia         0\n",
              "remoto             0\n",
              "empresa            0\n",
              "tamanho_empresa    0\n",
              "dtype: int64"
            ]
          },
          "execution_count": 33,
          "metadata": {},
          "output_type": "execute_result"
        }
      ],
      "source": [
        "df_limpo.isnull().sum()"
      ]
    },
    {
      "cell_type": "code",
      "execution_count": 34,
      "metadata": {
        "colab": {
          "base_uri": "https://localhost:8080/",
          "height": 206
        },
        "id": "elMqYM75sAAp",
        "outputId": "cc69ff34-bfe4-4045-a4c3-583b47ed5773"
      },
      "outputs": [
        {
          "data": {
            "text/html": [
              "<div>\n",
              "<style scoped>\n",
              "    .dataframe tbody tr th:only-of-type {\n",
              "        vertical-align: middle;\n",
              "    }\n",
              "\n",
              "    .dataframe tbody tr th {\n",
              "        vertical-align: top;\n",
              "    }\n",
              "\n",
              "    .dataframe thead th {\n",
              "        text-align: right;\n",
              "    }\n",
              "</style>\n",
              "<table border=\"1\" class=\"dataframe\">\n",
              "  <thead>\n",
              "    <tr style=\"text-align: right;\">\n",
              "      <th></th>\n",
              "      <th>ano</th>\n",
              "      <th>senioridade</th>\n",
              "      <th>contrato</th>\n",
              "      <th>cargo</th>\n",
              "      <th>salario</th>\n",
              "      <th>moeda</th>\n",
              "      <th>usd</th>\n",
              "      <th>residencia</th>\n",
              "      <th>remoto</th>\n",
              "      <th>empresa</th>\n",
              "      <th>tamanho_empresa</th>\n",
              "    </tr>\n",
              "  </thead>\n",
              "  <tbody>\n",
              "    <tr>\n",
              "      <th>0</th>\n",
              "      <td>2025.0</td>\n",
              "      <td>senior</td>\n",
              "      <td>integral</td>\n",
              "      <td>Solutions Engineer</td>\n",
              "      <td>214000</td>\n",
              "      <td>USD</td>\n",
              "      <td>214000</td>\n",
              "      <td>US</td>\n",
              "      <td>remoto</td>\n",
              "      <td>US</td>\n",
              "      <td>media</td>\n",
              "    </tr>\n",
              "    <tr>\n",
              "      <th>1</th>\n",
              "      <td>2025.0</td>\n",
              "      <td>senior</td>\n",
              "      <td>integral</td>\n",
              "      <td>Solutions Engineer</td>\n",
              "      <td>136000</td>\n",
              "      <td>USD</td>\n",
              "      <td>136000</td>\n",
              "      <td>US</td>\n",
              "      <td>remoto</td>\n",
              "      <td>US</td>\n",
              "      <td>media</td>\n",
              "    </tr>\n",
              "    <tr>\n",
              "      <th>2</th>\n",
              "      <td>2025.0</td>\n",
              "      <td>pleno</td>\n",
              "      <td>integral</td>\n",
              "      <td>Data Engineer</td>\n",
              "      <td>158800</td>\n",
              "      <td>USD</td>\n",
              "      <td>158800</td>\n",
              "      <td>AU</td>\n",
              "      <td>presencial</td>\n",
              "      <td>AU</td>\n",
              "      <td>media</td>\n",
              "    </tr>\n",
              "    <tr>\n",
              "      <th>3</th>\n",
              "      <td>2025.0</td>\n",
              "      <td>pleno</td>\n",
              "      <td>integral</td>\n",
              "      <td>Data Engineer</td>\n",
              "      <td>139200</td>\n",
              "      <td>USD</td>\n",
              "      <td>139200</td>\n",
              "      <td>AU</td>\n",
              "      <td>presencial</td>\n",
              "      <td>AU</td>\n",
              "      <td>media</td>\n",
              "    </tr>\n",
              "    <tr>\n",
              "      <th>4</th>\n",
              "      <td>2025.0</td>\n",
              "      <td>junior</td>\n",
              "      <td>integral</td>\n",
              "      <td>Data Engineer</td>\n",
              "      <td>90000</td>\n",
              "      <td>USD</td>\n",
              "      <td>90000</td>\n",
              "      <td>US</td>\n",
              "      <td>presencial</td>\n",
              "      <td>US</td>\n",
              "      <td>media</td>\n",
              "    </tr>\n",
              "  </tbody>\n",
              "</table>\n",
              "</div>"
            ],
            "text/plain": [
              "      ano senioridade  contrato               cargo  salario moeda     usd  \\\n",
              "0  2025.0      senior  integral  Solutions Engineer   214000   USD  214000   \n",
              "1  2025.0      senior  integral  Solutions Engineer   136000   USD  136000   \n",
              "2  2025.0       pleno  integral       Data Engineer   158800   USD  158800   \n",
              "3  2025.0       pleno  integral       Data Engineer   139200   USD  139200   \n",
              "4  2025.0      junior  integral       Data Engineer    90000   USD   90000   \n",
              "\n",
              "  residencia      remoto empresa tamanho_empresa  \n",
              "0         US      remoto      US           media  \n",
              "1         US      remoto      US           media  \n",
              "2         AU  presencial      AU           media  \n",
              "3         AU  presencial      AU           media  \n",
              "4         US  presencial      US           media  "
            ]
          },
          "execution_count": 34,
          "metadata": {},
          "output_type": "execute_result"
        }
      ],
      "source": [
        "df_limpo.head()"
      ]
    },
    {
      "cell_type": "code",
      "execution_count": 35,
      "metadata": {
        "colab": {
          "base_uri": "https://localhost:8080/"
        },
        "id": "aR9ZlmNAsOs9",
        "outputId": "38822485-4a53-4f5d-b6e5-1cb299c5a8ea"
      },
      "outputs": [
        {
          "name": "stdout",
          "output_type": "stream",
          "text": [
            "<class 'pandas.core.frame.DataFrame'>\n",
            "Index: 133339 entries, 0 to 133348\n",
            "Data columns (total 11 columns):\n",
            " #   Column           Non-Null Count   Dtype  \n",
            "---  ------           --------------   -----  \n",
            " 0   ano              133339 non-null  float64\n",
            " 1   senioridade      133339 non-null  object \n",
            " 2   contrato         133339 non-null  object \n",
            " 3   cargo            133339 non-null  object \n",
            " 4   salario          133339 non-null  int64  \n",
            " 5   moeda            133339 non-null  object \n",
            " 6   usd              133339 non-null  int64  \n",
            " 7   residencia       133339 non-null  object \n",
            " 8   remoto           133339 non-null  object \n",
            " 9   empresa          133339 non-null  object \n",
            " 10  tamanho_empresa  133339 non-null  object \n",
            "dtypes: float64(1), int64(2), object(8)\n",
            "memory usage: 12.2+ MB\n"
          ]
        }
      ],
      "source": [
        "df_limpo.info()"
      ]
    },
    {
      "cell_type": "code",
      "execution_count": 36,
      "metadata": {
        "id": "1lT54ntHsfgc"
      },
      "outputs": [],
      "source": [
        "df_limpo = df_limpo.assign(ano = df_limpo['ano'].astype('int64'))"
      ]
    },
    {
      "cell_type": "markdown",
      "metadata": {
        "id": "WhKDuBgzM1UZ"
      },
      "source": [
        "# Aula 3 - Visualização de Dados\n",
        "Aprendendo a criar gráficos estatísticos para explorar e comunicar informações presentes nos dados. Histogramas, boxplots, barras, etc."
      ]
    },
    {
      "cell_type": "code",
      "execution_count": 37,
      "metadata": {
        "colab": {
          "base_uri": "https://localhost:8080/",
          "height": 206
        },
        "id": "oB8DoGxdNMFq",
        "outputId": "b2553098-ac28-492a-ef05-522e056f447b"
      },
      "outputs": [
        {
          "data": {
            "text/html": [
              "<div>\n",
              "<style scoped>\n",
              "    .dataframe tbody tr th:only-of-type {\n",
              "        vertical-align: middle;\n",
              "    }\n",
              "\n",
              "    .dataframe tbody tr th {\n",
              "        vertical-align: top;\n",
              "    }\n",
              "\n",
              "    .dataframe thead th {\n",
              "        text-align: right;\n",
              "    }\n",
              "</style>\n",
              "<table border=\"1\" class=\"dataframe\">\n",
              "  <thead>\n",
              "    <tr style=\"text-align: right;\">\n",
              "      <th></th>\n",
              "      <th>ano</th>\n",
              "      <th>senioridade</th>\n",
              "      <th>contrato</th>\n",
              "      <th>cargo</th>\n",
              "      <th>salario</th>\n",
              "      <th>moeda</th>\n",
              "      <th>usd</th>\n",
              "      <th>residencia</th>\n",
              "      <th>remoto</th>\n",
              "      <th>empresa</th>\n",
              "      <th>tamanho_empresa</th>\n",
              "    </tr>\n",
              "  </thead>\n",
              "  <tbody>\n",
              "    <tr>\n",
              "      <th>0</th>\n",
              "      <td>2025</td>\n",
              "      <td>senior</td>\n",
              "      <td>integral</td>\n",
              "      <td>Solutions Engineer</td>\n",
              "      <td>214000</td>\n",
              "      <td>USD</td>\n",
              "      <td>214000</td>\n",
              "      <td>US</td>\n",
              "      <td>remoto</td>\n",
              "      <td>US</td>\n",
              "      <td>media</td>\n",
              "    </tr>\n",
              "    <tr>\n",
              "      <th>1</th>\n",
              "      <td>2025</td>\n",
              "      <td>senior</td>\n",
              "      <td>integral</td>\n",
              "      <td>Solutions Engineer</td>\n",
              "      <td>136000</td>\n",
              "      <td>USD</td>\n",
              "      <td>136000</td>\n",
              "      <td>US</td>\n",
              "      <td>remoto</td>\n",
              "      <td>US</td>\n",
              "      <td>media</td>\n",
              "    </tr>\n",
              "    <tr>\n",
              "      <th>2</th>\n",
              "      <td>2025</td>\n",
              "      <td>pleno</td>\n",
              "      <td>integral</td>\n",
              "      <td>Data Engineer</td>\n",
              "      <td>158800</td>\n",
              "      <td>USD</td>\n",
              "      <td>158800</td>\n",
              "      <td>AU</td>\n",
              "      <td>presencial</td>\n",
              "      <td>AU</td>\n",
              "      <td>media</td>\n",
              "    </tr>\n",
              "    <tr>\n",
              "      <th>3</th>\n",
              "      <td>2025</td>\n",
              "      <td>pleno</td>\n",
              "      <td>integral</td>\n",
              "      <td>Data Engineer</td>\n",
              "      <td>139200</td>\n",
              "      <td>USD</td>\n",
              "      <td>139200</td>\n",
              "      <td>AU</td>\n",
              "      <td>presencial</td>\n",
              "      <td>AU</td>\n",
              "      <td>media</td>\n",
              "    </tr>\n",
              "    <tr>\n",
              "      <th>4</th>\n",
              "      <td>2025</td>\n",
              "      <td>junior</td>\n",
              "      <td>integral</td>\n",
              "      <td>Data Engineer</td>\n",
              "      <td>90000</td>\n",
              "      <td>USD</td>\n",
              "      <td>90000</td>\n",
              "      <td>US</td>\n",
              "      <td>presencial</td>\n",
              "      <td>US</td>\n",
              "      <td>media</td>\n",
              "    </tr>\n",
              "  </tbody>\n",
              "</table>\n",
              "</div>"
            ],
            "text/plain": [
              "    ano senioridade  contrato               cargo  salario moeda     usd  \\\n",
              "0  2025      senior  integral  Solutions Engineer   214000   USD  214000   \n",
              "1  2025      senior  integral  Solutions Engineer   136000   USD  136000   \n",
              "2  2025       pleno  integral       Data Engineer   158800   USD  158800   \n",
              "3  2025       pleno  integral       Data Engineer   139200   USD  139200   \n",
              "4  2025      junior  integral       Data Engineer    90000   USD   90000   \n",
              "\n",
              "  residencia      remoto empresa tamanho_empresa  \n",
              "0         US      remoto      US           media  \n",
              "1         US      remoto      US           media  \n",
              "2         AU  presencial      AU           media  \n",
              "3         AU  presencial      AU           media  \n",
              "4         US  presencial      US           media  "
            ]
          },
          "execution_count": 37,
          "metadata": {},
          "output_type": "execute_result"
        }
      ],
      "source": [
        "df_limpo.head()"
      ]
    },
    {
      "cell_type": "code",
      "execution_count": 38,
      "metadata": {
        "colab": {
          "base_uri": "https://localhost:8080/",
          "height": 542
        },
        "id": "Vkizg_CcPmSU",
        "outputId": "98488956-7b92-40c0-f338-1e540fcd0928"
      },
      "outputs": [
        {
          "data": {
            "text/plain": [
              "<Axes: title={'center': 'Distribuição de senioridade'}, xlabel='senioridade'>"
            ]
          },
          "execution_count": 38,
          "metadata": {},
          "output_type": "execute_result"
        },
        {
          "data": {
            "image/png": "[encoded data removed]",
            "text/plain": [
              "<Figure size 640x480 with 1 Axes>"
            ]
          },
          "metadata": {},
          "output_type": "display_data"
        }
      ],
      "source": [
        "df_limpo['senioridade'].value_counts().plot(kind='bar', title=\"Distribuição de senioridade\")"
      ]
    },
    {
      "cell_type": "code",
      "execution_count": 39,
      "metadata": {
        "id": "UmrbNfcjRSEP"
      },
      "outputs": [],
      "source": [
        "import seaborn as sns"
      ]
    },
    {
      "cell_type": "code",
      "execution_count": 40,
      "metadata": {
        "colab": {
          "base_uri": "https://localhost:8080/",
          "height": 466
        },
        "id": "lUKvyqgNRklW",
        "outputId": "8ad3e0b9-51d2-4f01-86b2-69e4ebff223a"
      },
      "outputs": [
        {
          "data": {
            "text/plain": [
              "<Axes: xlabel='senioridade', ylabel='usd'>"
            ]
          },
          "execution_count": 40,
          "metadata": {},
          "output_type": "execute_result"
        },
        {
          "data": {
            "image/png": "[encoded data removed]",
            "text/plain": [
              "<Figure size 640x480 with 1 Axes>"
            ]
          },
          "metadata": {},
          "output_type": "display_data"
        }
      ],
      "source": [
        "sns.barplot(data=df_limpo, x='senioridade', y='usd')"
      ]
    },
    {
      "cell_type": "code",
      "execution_count": 41,
      "metadata": {
        "id": "4qkX_eHcSn4c"
      },
      "outputs": [],
      "source": [
        "import matplotlib.pyplot as plt"
      ]
    },
    {
      "cell_type": "code",
      "execution_count": 42,
      "metadata": {
        "colab": {
          "base_uri": "https://localhost:8080/",
          "height": 488
        },
        "id": "rNt2hslOS0Uy",
        "outputId": "64a920c1-beeb-4377-d017-1c76dc08b584"
      },
      "outputs": [
        {
          "data": {
            "image/png": "[encoded data removed]",
            "text/plain": [
              "<Figure size 800x500 with 1 Axes>"
            ]
          },
          "metadata": {},
          "output_type": "display_data"
        }
      ],
      "source": [
        "plt.figure(figsize=(8,5))\n",
        "sns.barplot(data=df_limpo, x='senioridade', y='usd')\n",
        "plt.title(\"Salário médio por senioridade\")\n",
        "plt.xlabel(\"Senioridade\")\n",
        "plt.ylabel(\"Salário médio anual (USD)\")\n",
        "plt.show()\n",
        "\n"
      ]
    },
    {
      "cell_type": "code",
      "execution_count": 43,
      "metadata": {
        "colab": {
          "base_uri": "https://localhost:8080/",
          "height": 241
        },
        "id": "K_bRIUMNUFDf",
        "outputId": "2729d7de-2403-46ae-ce35-a6a373d60489"
      },
      "outputs": [
        {
          "data": {
            "text/plain": [
              "senioridade\n",
              "executivo    202027.667813\n",
              "senior       172850.838301\n",
              "pleno        143044.845979\n",
              "junior        99034.963267\n",
              "Name: usd, dtype: float64"
            ]
          },
          "execution_count": 43,
          "metadata": {},
          "output_type": "execute_result"
        }
      ],
      "source": [
        "df_limpo.groupby('senioridade')['usd'].mean().sort_values(ascending=False)"
      ]
    },
    {
      "cell_type": "code",
      "execution_count": 44,
      "metadata": {
        "id": "2SSpPsTXU68s"
      },
      "outputs": [],
      "source": [
        "ordem = df_limpo.groupby('senioridade')['usd'].mean().sort_values(ascending=True).index"
      ]
    },
    {
      "cell_type": "code",
      "execution_count": 45,
      "metadata": {
        "colab": {
          "base_uri": "https://localhost:8080/"
        },
        "id": "rZcfsX_pVEoQ",
        "outputId": "62dc9af8-61a4-4c1a-b227-43d300b2f51a"
      },
      "outputs": [
        {
          "data": {
            "text/plain": [
              "Index(['junior', 'pleno', 'senior', 'executivo'], dtype='object', name='senioridade')"
            ]
          },
          "execution_count": 45,
          "metadata": {},
          "output_type": "execute_result"
        }
      ],
      "source": [
        "ordem"
      ]
    },
    {
      "cell_type": "code",
      "execution_count": 46,
      "metadata": {
        "colab": {
          "base_uri": "https://localhost:8080/",
          "height": 488
        },
        "id": "u607D6CxVPJc",
        "outputId": "f864ae15-183f-47e1-96fe-e0a351379112"
      },
      "outputs": [
        {
          "data": {
            "image/png": "[encoded data removed]",
            "text/plain": [
              "<Figure size 800x500 with 1 Axes>"
            ]
          },
          "metadata": {},
          "output_type": "display_data"
        }
      ],
      "source": [
        "plt.figure(figsize=(8,5))\n",
        "sns.barplot(data=df_limpo, x='senioridade', y='usd', order=ordem)\n",
        "plt.title(\"Salário médio por senioridade\")\n",
        "plt.xlabel(\"Senioridade\")\n",
        "plt.ylabel(\"Salário médio anual (USD)\")\n",
        "plt.show()"
      ]
    },
    {
      "cell_type": "code",
      "execution_count": 47,
      "metadata": {
        "colab": {
          "base_uri": "https://localhost:8080/",
          "height": 488
        },
        "id": "jj26ODR2VsK9",
        "outputId": "610c7e81-31aa-4262-c092-dd718cf8761d"
      },
      "outputs": [
        {
          "data": {
            "image/png": "[encoded data removed]",
            "text/plain": [
              "<Figure size 1000x500 with 1 Axes>"
            ]
          },
          "metadata": {},
          "output_type": "display_data"
        }
      ],
      "source": [
        "plt.figure(figsize=(10,5))\n",
        "sns.histplot(df_limpo['usd'], bins = 50, kde=True)\n",
        "plt.title(\"Distribuição dos salários anuais\")\n",
        "plt.xlabel(\"Salário em USD\")\n",
        "plt.ylabel(\"Frequência\")\n",
        "plt.show()"
      ]
    },
    {
      "cell_type": "code",
      "execution_count": 48,
      "metadata": {
        "colab": {
          "base_uri": "https://localhost:8080/",
          "height": 488
        },
        "id": "LemcyVWSYCep",
        "outputId": "b85651f6-ff79-4e95-8cb3-cd749b7e5223"
      },
      "outputs": [
        {
          "data": {
            "image/png": "[encoded data removed]",
            "text/plain": [
              "<Figure size 800x500 with 1 Axes>"
            ]
          },
          "metadata": {},
          "output_type": "display_data"
        }
      ],
      "source": [
        "plt.figure(figsize=(8,5))\n",
        "sns.boxplot(x=df_limpo['usd'])\n",
        "plt.title(\"Boxplot Salário\")\n",
        "plt.xlabel(\"Salário em USD\")\n",
        "plt.show()"
      ]
    },
    {
      "cell_type": "code",
      "execution_count": 49,
      "metadata": {
        "colab": {
          "base_uri": "https://localhost:8080/",
          "height": 487
        },
        "id": "zm2xsBz-ZNv3",
        "outputId": "e3b33884-233b-470b-cf84-a6ead44ab306"
      },
      "outputs": [
        {
          "data": {
            "image/png": "[encoded data removed]",
            "text/plain": [
              "<Figure size 800x500 with 1 Axes>"
            ]
          },
          "metadata": {},
          "output_type": "display_data"
        }
      ],
      "source": [
        "ordem_senioridade = ['junior', 'pleno', 'senior', 'executivo']\n",
        "\n",
        "plt.figure(figsize=(8,5))\n",
        "sns.boxplot(x='senioridade', y='usd', data=df_limpo, order=ordem_senioridade)\n",
        "plt.title(\"Boxplot da distribuição por senioridade\")\n",
        "plt.xlabel(\"Salário em USD\")\n",
        "plt.show()\n"
      ]
    },
    {
      "cell_type": "code",
      "execution_count": 50,
      "metadata": {
        "colab": {
          "base_uri": "https://localhost:8080/",
          "height": 487
        },
        "id": "aKBn2uaQaXj3",
        "outputId": "ce22a9ca-8377-44e1-817f-c1d6cac25c55"
      },
      "outputs": [
        {
          "data": {
            "image/png": "[encoded data removed]",
            "text/plain": [
              "<Figure size 800x500 with 1 Axes>"
            ]
          },
          "metadata": {},
          "output_type": "display_data"
        }
      ],
      "source": [
        "ordem_senioridade = ['junior', 'pleno', 'senior', 'executivo']\n",
        "\n",
        "plt.figure(figsize=(8,5))\n",
        "sns.boxplot(x='senioridade', y='usd', data=df_limpo, order=ordem_senioridade, palette='Set2', hue='senioridade')\n",
        "plt.title(\"Boxplot da distribuição por senioridade\")\n",
        "plt.xlabel(\"Salário em USD\")\n",
        "plt.show()"
      ]
    },
    {
      "cell_type": "code",
      "execution_count": 51,
      "metadata": {
        "id": "0q5tlVvJb6YF"
      },
      "outputs": [],
      "source": [
        "import plotly.express as px"
      ]
    },
    {
      "cell_type": "code",
      "execution_count": 52,
      "metadata": {
        "colab": {
          "base_uri": "https://localhost:8080/",
          "height": 542
        },
        "id": "ahffca0gcJuI",
        "outputId": "28617789-9c7d-4164-a1ce-fb8501e344ef"
      },
      "outputs": [
        {
          "ename": "ValueError",
          "evalue": "Mime type rendering requires nbformat>=4.2.0 but it is not installed",
          "output_type": "error",
          "traceback": [
            "\u001b[31m---------------------------------------------------------------------------\u001b[39m",
            "\u001b[31mValueError\u001b[39m                                Traceback (most recent call last)",
            "\u001b[36mCell\u001b[39m\u001b[36m \u001b[39m\u001b[32mIn[52]\u001b[39m\u001b[32m, line 11\u001b[39m\n\u001b[32m      3\u001b[39m senioridade_media_salario = df_limpo.groupby(\u001b[33m'\u001b[39m\u001b[33msenioridade\u001b[39m\u001b[33m'\u001b[39m)[\u001b[33m'\u001b[39m\u001b[33musd\u001b[39m\u001b[33m'\u001b[39m].mean().sort_values(ascending=\u001b[38;5;28;01mFalse\u001b[39;00m).reset_index()\n\u001b[32m      5\u001b[39m fig = px.bar(senioridade_media_salario,\n\u001b[32m      6\u001b[39m              x=\u001b[33m'\u001b[39m\u001b[33msenioridade\u001b[39m\u001b[33m'\u001b[39m,\n\u001b[32m      7\u001b[39m              y=\u001b[33m'\u001b[39m\u001b[33musd\u001b[39m\u001b[33m'\u001b[39m,\n\u001b[32m      8\u001b[39m              title=\u001b[33m'\u001b[39m\u001b[33mMédia Salarial por Senioridade\u001b[39m\u001b[33m'\u001b[39m,\n\u001b[32m      9\u001b[39m              labels={\u001b[33m'\u001b[39m\u001b[33msenioridade\u001b[39m\u001b[33m'\u001b[39m: \u001b[33m'\u001b[39m\u001b[33mNível de Senioridade\u001b[39m\u001b[33m'\u001b[39m, \u001b[33m'\u001b[39m\u001b[33musd\u001b[39m\u001b[33m'\u001b[39m: \u001b[33m'\u001b[39m\u001b[33mMédia Salarial Anual (USD)\u001b[39m\u001b[33m'\u001b[39m})\n\u001b[32m---> \u001b[39m\u001b[32m11\u001b[39m \u001b[43mfig\u001b[49m\u001b[43m.\u001b[49m\u001b[43mshow\u001b[49m\u001b[43m(\u001b[49m\u001b[43m)\u001b[49m\n",
            "\u001b[36mFile \u001b[39m\u001b[32mc:\\Users\\rayra\\OneDrive\\Documentos\\imersaoAluraDadosPython\\.venv\\Lib\\site-packages\\plotly\\basedatatypes.py:3410\u001b[39m, in \u001b[36mBaseFigure.show\u001b[39m\u001b[34m(self, *args, **kwargs)\u001b[39m\n\u001b[32m   3377\u001b[39m \u001b[38;5;250m\u001b[39m\u001b[33;03m\"\"\"\u001b[39;00m\n\u001b[32m   3378\u001b[39m \u001b[33;03mShow a figure using either the default renderer(s) or the renderer(s)\u001b[39;00m\n\u001b[32m   3379\u001b[39m \u001b[33;03mspecified by the renderer argument\u001b[39;00m\n\u001b[32m   (...)\u001b[39m\u001b[32m   3406\u001b[39m \u001b[33;03mNone\u001b[39;00m\n\u001b[32m   3407\u001b[39m \u001b[33;03m\"\"\"\u001b[39;00m\n\u001b[32m   3408\u001b[39m \u001b[38;5;28;01mimport\u001b[39;00m\u001b[38;5;250m \u001b[39m\u001b[34;01mplotly\u001b[39;00m\u001b[34;01m.\u001b[39;00m\u001b[34;01mio\u001b[39;00m\u001b[38;5;250m \u001b[39m\u001b[38;5;28;01mas\u001b[39;00m\u001b[38;5;250m \u001b[39m\u001b[34;01mpio\u001b[39;00m\n\u001b[32m-> \u001b[39m\u001b[32m3410\u001b[39m \u001b[38;5;28;01mreturn\u001b[39;00m \u001b[43mpio\u001b[49m\u001b[43m.\u001b[49m\u001b[43mshow\u001b[49m\u001b[43m(\u001b[49m\u001b[38;5;28;43mself\u001b[39;49m\u001b[43m,\u001b[49m\u001b[43m \u001b[49m\u001b[43m*\u001b[49m\u001b[43margs\u001b[49m\u001b[43m,\u001b[49m\u001b[43m \u001b[49m\u001b[43m*\u001b[49m\u001b[43m*\u001b[49m\u001b[43mkwargs\u001b[49m\u001b[43m)\u001b[49m\n",
            "\u001b[36mFile \u001b[39m\u001b[32mc:\\Users\\rayra\\OneDrive\\Documentos\\imersaoAluraDadosPython\\.venv\\Lib\\site-packages\\plotly\\io\\_renderers.py:394\u001b[39m, in \u001b[36mshow\u001b[39m\u001b[34m(fig, renderer, validate, **kwargs)\u001b[39m\n\u001b[32m    389\u001b[39m         \u001b[38;5;28;01mraise\u001b[39;00m \u001b[38;5;167;01mValueError\u001b[39;00m(\n\u001b[32m    390\u001b[39m             \u001b[33m\"\u001b[39m\u001b[33mMime type rendering requires ipython but it is not installed\u001b[39m\u001b[33m\"\u001b[39m\n\u001b[32m    391\u001b[39m         )\n\u001b[32m    393\u001b[39m     \u001b[38;5;28;01mif\u001b[39;00m \u001b[38;5;129;01mnot\u001b[39;00m nbformat \u001b[38;5;129;01mor\u001b[39;00m Version(nbformat.__version__) < Version(\u001b[33m\"\u001b[39m\u001b[33m4.2.0\u001b[39m\u001b[33m\"\u001b[39m):\n\u001b[32m--> \u001b[39m\u001b[32m394\u001b[39m         \u001b[38;5;28;01mraise\u001b[39;00m \u001b[38;5;167;01mValueError\u001b[39;00m(\n\u001b[32m    395\u001b[39m             \u001b[33m\"\u001b[39m\u001b[33mMime type rendering requires nbformat>=4.2.0 but it is not installed\u001b[39m\u001b[33m\"\u001b[39m\n\u001b[32m    396\u001b[39m         )\n\u001b[32m    398\u001b[39m     ipython_display.display(bundle, raw=\u001b[38;5;28;01mTrue\u001b[39;00m)\n\u001b[32m    400\u001b[39m \u001b[38;5;66;03m# external renderers\u001b[39;00m\n",
            "\u001b[31mValueError\u001b[39m: Mime type rendering requires nbformat>=4.2.0 but it is not installed"
          ]
        }
      ],
      "source": [
        "# prompt: Crie um gráfico de média salarial por senioridade em barras usando o plotly\n",
        "\n",
        "senioridade_media_salario = df_limpo.groupby('senioridade')['usd'].mean().sort_values(ascending=False).reset_index()\n",
        "\n",
        "fig = px.bar(senioridade_media_salario,\n",
        "             x='senioridade',\n",
        "             y='usd',\n",
        "             title='Média Salarial por Senioridade',\n",
        "             labels={'senioridade': 'Nível de Senioridade', 'usd': 'Média Salarial Anual (USD)'})\n",
        "\n",
        "fig.show()"
      ]
    },
    {
      "cell_type": "code",
      "execution_count": 53,
      "metadata": {
        "colab": {
          "base_uri": "https://localhost:8080/",
          "height": 542
        },
        "id": "PG28n2rPc0Ap",
        "outputId": "ec62c16e-6681-4d8e-ed73-c0a99b1b503e"
      },
      "outputs": [
        {
          "ename": "ValueError",
          "evalue": "Mime type rendering requires nbformat>=4.2.0 but it is not installed",
          "output_type": "error",
          "traceback": [
            "\u001b[31m---------------------------------------------------------------------------\u001b[39m",
            "\u001b[31mValueError\u001b[39m                                Traceback (most recent call last)",
            "\u001b[36mCell\u001b[39m\u001b[36m \u001b[39m\u001b[32mIn[53]\u001b[39m\u001b[32m, line 11\u001b[39m\n\u001b[32m      2\u001b[39m remoto_contagem.columns = [\u001b[33m'\u001b[39m\u001b[33mtipo_trabalho\u001b[39m\u001b[33m'\u001b[39m, \u001b[33m'\u001b[39m\u001b[33mquantidade\u001b[39m\u001b[33m'\u001b[39m]\n\u001b[32m      4\u001b[39m fig = px.pie(remoto_contagem,\n\u001b[32m      5\u001b[39m              names=\u001b[33m'\u001b[39m\u001b[33mtipo_trabalho\u001b[39m\u001b[33m'\u001b[39m,\n\u001b[32m      6\u001b[39m              values=\u001b[33m'\u001b[39m\u001b[33mquantidade\u001b[39m\u001b[33m'\u001b[39m,\n\u001b[32m      7\u001b[39m              title=\u001b[33m'\u001b[39m\u001b[33mProporção dos tipos de trabalho\u001b[39m\u001b[33m'\u001b[39m\n\u001b[32m      8\u001b[39m \n\u001b[32m      9\u001b[39m           )\n\u001b[32m---> \u001b[39m\u001b[32m11\u001b[39m \u001b[43mfig\u001b[49m\u001b[43m.\u001b[49m\u001b[43mshow\u001b[49m\u001b[43m(\u001b[49m\u001b[43m)\u001b[49m\n",
            "\u001b[36mFile \u001b[39m\u001b[32mc:\\Users\\rayra\\OneDrive\\Documentos\\imersaoAluraDadosPython\\.venv\\Lib\\site-packages\\plotly\\basedatatypes.py:3410\u001b[39m, in \u001b[36mBaseFigure.show\u001b[39m\u001b[34m(self, *args, **kwargs)\u001b[39m\n\u001b[32m   3377\u001b[39m \u001b[38;5;250m\u001b[39m\u001b[33;03m\"\"\"\u001b[39;00m\n\u001b[32m   3378\u001b[39m \u001b[33;03mShow a figure using either the default renderer(s) or the renderer(s)\u001b[39;00m\n\u001b[32m   3379\u001b[39m \u001b[33;03mspecified by the renderer argument\u001b[39;00m\n\u001b[32m   (...)\u001b[39m\u001b[32m   3406\u001b[39m \u001b[33;03mNone\u001b[39;00m\n\u001b[32m   3407\u001b[39m \u001b[33;03m\"\"\"\u001b[39;00m\n\u001b[32m   3408\u001b[39m \u001b[38;5;28;01mimport\u001b[39;00m\u001b[38;5;250m \u001b[39m\u001b[34;01mplotly\u001b[39;00m\u001b[34;01m.\u001b[39;00m\u001b[34;01mio\u001b[39;00m\u001b[38;5;250m \u001b[39m\u001b[38;5;28;01mas\u001b[39;00m\u001b[38;5;250m \u001b[39m\u001b[34;01mpio\u001b[39;00m\n\u001b[32m-> \u001b[39m\u001b[32m3410\u001b[39m \u001b[38;5;28;01mreturn\u001b[39;00m \u001b[43mpio\u001b[49m\u001b[43m.\u001b[49m\u001b[43mshow\u001b[49m\u001b[43m(\u001b[49m\u001b[38;5;28;43mself\u001b[39;49m\u001b[43m,\u001b[49m\u001b[43m \u001b[49m\u001b[43m*\u001b[49m\u001b[43margs\u001b[49m\u001b[43m,\u001b[49m\u001b[43m \u001b[49m\u001b[43m*\u001b[49m\u001b[43m*\u001b[49m\u001b[43mkwargs\u001b[49m\u001b[43m)\u001b[49m\n",
            "\u001b[36mFile \u001b[39m\u001b[32mc:\\Users\\rayra\\OneDrive\\Documentos\\imersaoAluraDadosPython\\.venv\\Lib\\site-packages\\plotly\\io\\_renderers.py:394\u001b[39m, in \u001b[36mshow\u001b[39m\u001b[34m(fig, renderer, validate, **kwargs)\u001b[39m\n\u001b[32m    389\u001b[39m         \u001b[38;5;28;01mraise\u001b[39;00m \u001b[38;5;167;01mValueError\u001b[39;00m(\n\u001b[32m    390\u001b[39m             \u001b[33m\"\u001b[39m\u001b[33mMime type rendering requires ipython but it is not installed\u001b[39m\u001b[33m\"\u001b[39m\n\u001b[32m    391\u001b[39m         )\n\u001b[32m    393\u001b[39m     \u001b[38;5;28;01mif\u001b[39;00m \u001b[38;5;129;01mnot\u001b[39;00m nbformat \u001b[38;5;129;01mor\u001b[39;00m Version(nbformat.__version__) < Version(\u001b[33m\"\u001b[39m\u001b[33m4.2.0\u001b[39m\u001b[33m\"\u001b[39m):\n\u001b[32m--> \u001b[39m\u001b[32m394\u001b[39m         \u001b[38;5;28;01mraise\u001b[39;00m \u001b[38;5;167;01mValueError\u001b[39;00m(\n\u001b[32m    395\u001b[39m             \u001b[33m\"\u001b[39m\u001b[33mMime type rendering requires nbformat>=4.2.0 but it is not installed\u001b[39m\u001b[33m\"\u001b[39m\n\u001b[32m    396\u001b[39m         )\n\u001b[32m    398\u001b[39m     ipython_display.display(bundle, raw=\u001b[38;5;28;01mTrue\u001b[39;00m)\n\u001b[32m    400\u001b[39m \u001b[38;5;66;03m# external renderers\u001b[39;00m\n",
            "\u001b[31mValueError\u001b[39m: Mime type rendering requires nbformat>=4.2.0 but it is not installed"
          ]
        }
      ],
      "source": [
        "remoto_contagem = df_limpo['remoto'].value_counts().reset_index()\n",
        "remoto_contagem.columns = ['tipo_trabalho', 'quantidade']\n",
        "\n",
        "fig = px.pie(remoto_contagem,\n",
        "             names='tipo_trabalho',\n",
        "             values='quantidade',\n",
        "             title='Proporção dos tipos de trabalho'\n",
        "\n",
        "          )\n",
        "\n",
        "fig.show()"
      ]
    },
    {
      "cell_type": "code",
      "execution_count": 54,
      "metadata": {
        "colab": {
          "base_uri": "https://localhost:8080/",
          "height": 542
        },
        "id": "_fK4idRQePXj",
        "outputId": "a1c590d0-ef7c-4b74-ea77-1a6c538ad10f"
      },
      "outputs": [
        {
          "ename": "ValueError",
          "evalue": "Mime type rendering requires nbformat>=4.2.0 but it is not installed",
          "output_type": "error",
          "traceback": [
            "\u001b[31m---------------------------------------------------------------------------\u001b[39m",
            "\u001b[31mValueError\u001b[39m                                Traceback (most recent call last)",
            "\u001b[36mCell\u001b[39m\u001b[36m \u001b[39m\u001b[32mIn[54]\u001b[39m\u001b[32m, line 11\u001b[39m\n\u001b[32m      2\u001b[39m remoto_contagem.columns = [\u001b[33m'\u001b[39m\u001b[33mtipo_trabalho\u001b[39m\u001b[33m'\u001b[39m, \u001b[33m'\u001b[39m\u001b[33mquantidade\u001b[39m\u001b[33m'\u001b[39m]\n\u001b[32m      4\u001b[39m fig = px.pie(remoto_contagem,\n\u001b[32m      5\u001b[39m              names=\u001b[33m'\u001b[39m\u001b[33mtipo_trabalho\u001b[39m\u001b[33m'\u001b[39m,\n\u001b[32m      6\u001b[39m              values=\u001b[33m'\u001b[39m\u001b[33mquantidade\u001b[39m\u001b[33m'\u001b[39m,\n\u001b[32m      7\u001b[39m              title=\u001b[33m'\u001b[39m\u001b[33mProporção dos tipos de trabalho\u001b[39m\u001b[33m'\u001b[39m,\n\u001b[32m      8\u001b[39m              hole=\u001b[32m0.5\u001b[39m\n\u001b[32m      9\u001b[39m           )\n\u001b[32m---> \u001b[39m\u001b[32m11\u001b[39m \u001b[43mfig\u001b[49m\u001b[43m.\u001b[49m\u001b[43mshow\u001b[49m\u001b[43m(\u001b[49m\u001b[43m)\u001b[49m\n",
            "\u001b[36mFile \u001b[39m\u001b[32mc:\\Users\\rayra\\OneDrive\\Documentos\\imersaoAluraDadosPython\\.venv\\Lib\\site-packages\\plotly\\basedatatypes.py:3410\u001b[39m, in \u001b[36mBaseFigure.show\u001b[39m\u001b[34m(self, *args, **kwargs)\u001b[39m\n\u001b[32m   3377\u001b[39m \u001b[38;5;250m\u001b[39m\u001b[33;03m\"\"\"\u001b[39;00m\n\u001b[32m   3378\u001b[39m \u001b[33;03mShow a figure using either the default renderer(s) or the renderer(s)\u001b[39;00m\n\u001b[32m   3379\u001b[39m \u001b[33;03mspecified by the renderer argument\u001b[39;00m\n\u001b[32m   (...)\u001b[39m\u001b[32m   3406\u001b[39m \u001b[33;03mNone\u001b[39;00m\n\u001b[32m   3407\u001b[39m \u001b[33;03m\"\"\"\u001b[39;00m\n\u001b[32m   3408\u001b[39m \u001b[38;5;28;01mimport\u001b[39;00m\u001b[38;5;250m \u001b[39m\u001b[34;01mplotly\u001b[39;00m\u001b[34;01m.\u001b[39;00m\u001b[34;01mio\u001b[39;00m\u001b[38;5;250m \u001b[39m\u001b[38;5;28;01mas\u001b[39;00m\u001b[38;5;250m \u001b[39m\u001b[34;01mpio\u001b[39;00m\n\u001b[32m-> \u001b[39m\u001b[32m3410\u001b[39m \u001b[38;5;28;01mreturn\u001b[39;00m \u001b[43mpio\u001b[49m\u001b[43m.\u001b[49m\u001b[43mshow\u001b[49m\u001b[43m(\u001b[49m\u001b[38;5;28;43mself\u001b[39;49m\u001b[43m,\u001b[49m\u001b[43m \u001b[49m\u001b[43m*\u001b[49m\u001b[43margs\u001b[49m\u001b[43m,\u001b[49m\u001b[43m \u001b[49m\u001b[43m*\u001b[49m\u001b[43m*\u001b[49m\u001b[43mkwargs\u001b[49m\u001b[43m)\u001b[49m\n",
            "\u001b[36mFile \u001b[39m\u001b[32mc:\\Users\\rayra\\OneDrive\\Documentos\\imersaoAluraDadosPython\\.venv\\Lib\\site-packages\\plotly\\io\\_renderers.py:394\u001b[39m, in \u001b[36mshow\u001b[39m\u001b[34m(fig, renderer, validate, **kwargs)\u001b[39m\n\u001b[32m    389\u001b[39m         \u001b[38;5;28;01mraise\u001b[39;00m \u001b[38;5;167;01mValueError\u001b[39;00m(\n\u001b[32m    390\u001b[39m             \u001b[33m\"\u001b[39m\u001b[33mMime type rendering requires ipython but it is not installed\u001b[39m\u001b[33m\"\u001b[39m\n\u001b[32m    391\u001b[39m         )\n\u001b[32m    393\u001b[39m     \u001b[38;5;28;01mif\u001b[39;00m \u001b[38;5;129;01mnot\u001b[39;00m nbformat \u001b[38;5;129;01mor\u001b[39;00m Version(nbformat.__version__) < Version(\u001b[33m\"\u001b[39m\u001b[33m4.2.0\u001b[39m\u001b[33m\"\u001b[39m):\n\u001b[32m--> \u001b[39m\u001b[32m394\u001b[39m         \u001b[38;5;28;01mraise\u001b[39;00m \u001b[38;5;167;01mValueError\u001b[39;00m(\n\u001b[32m    395\u001b[39m             \u001b[33m\"\u001b[39m\u001b[33mMime type rendering requires nbformat>=4.2.0 but it is not installed\u001b[39m\u001b[33m\"\u001b[39m\n\u001b[32m    396\u001b[39m         )\n\u001b[32m    398\u001b[39m     ipython_display.display(bundle, raw=\u001b[38;5;28;01mTrue\u001b[39;00m)\n\u001b[32m    400\u001b[39m \u001b[38;5;66;03m# external renderers\u001b[39;00m\n",
            "\u001b[31mValueError\u001b[39m: Mime type rendering requires nbformat>=4.2.0 but it is not installed"
          ]
        }
      ],
      "source": [
        "remoto_contagem = df_limpo['remoto'].value_counts().reset_index()\n",
        "remoto_contagem.columns = ['tipo_trabalho', 'quantidade']\n",
        "\n",
        "fig = px.pie(remoto_contagem,\n",
        "             names='tipo_trabalho',\n",
        "             values='quantidade',\n",
        "             title='Proporção dos tipos de trabalho',\n",
        "             hole=0.5\n",
        "          )\n",
        "\n",
        "fig.show()"
      ]
    },
    {
      "cell_type": "code",
      "execution_count": 55,
      "metadata": {
        "colab": {
          "base_uri": "https://localhost:8080/",
          "height": 542
        },
        "id": "pvQXFjaGeZiY",
        "outputId": "4cafdc02-a364-4158-d67f-98813b7cb3e6"
      },
      "outputs": [
        {
          "ename": "ValueError",
          "evalue": "Mime type rendering requires nbformat>=4.2.0 but it is not installed",
          "output_type": "error",
          "traceback": [
            "\u001b[31m---------------------------------------------------------------------------\u001b[39m",
            "\u001b[31mValueError\u001b[39m                                Traceback (most recent call last)",
            "\u001b[36mCell\u001b[39m\u001b[36m \u001b[39m\u001b[32mIn[55]\u001b[39m\u001b[32m, line 11\u001b[39m\n\u001b[32m      4\u001b[39m fig = px.pie(remoto_contagem,\n\u001b[32m      5\u001b[39m              names=\u001b[33m'\u001b[39m\u001b[33mtipo_trabalho\u001b[39m\u001b[33m'\u001b[39m,\n\u001b[32m      6\u001b[39m              values=\u001b[33m'\u001b[39m\u001b[33mquantidade\u001b[39m\u001b[33m'\u001b[39m,\n\u001b[32m      7\u001b[39m              title=\u001b[33m'\u001b[39m\u001b[33mProporção dos tipos de trabalho\u001b[39m\u001b[33m'\u001b[39m,\n\u001b[32m      8\u001b[39m              hole=\u001b[32m0.5\u001b[39m\n\u001b[32m      9\u001b[39m           )\n\u001b[32m     10\u001b[39m fig.update_traces(textinfo=\u001b[33m'\u001b[39m\u001b[33mpercent+label\u001b[39m\u001b[33m'\u001b[39m)\n\u001b[32m---> \u001b[39m\u001b[32m11\u001b[39m \u001b[43mfig\u001b[49m\u001b[43m.\u001b[49m\u001b[43mshow\u001b[49m\u001b[43m(\u001b[49m\u001b[43m)\u001b[49m\n",
            "\u001b[36mFile \u001b[39m\u001b[32mc:\\Users\\rayra\\OneDrive\\Documentos\\imersaoAluraDadosPython\\.venv\\Lib\\site-packages\\plotly\\basedatatypes.py:3410\u001b[39m, in \u001b[36mBaseFigure.show\u001b[39m\u001b[34m(self, *args, **kwargs)\u001b[39m\n\u001b[32m   3377\u001b[39m \u001b[38;5;250m\u001b[39m\u001b[33;03m\"\"\"\u001b[39;00m\n\u001b[32m   3378\u001b[39m \u001b[33;03mShow a figure using either the default renderer(s) or the renderer(s)\u001b[39;00m\n\u001b[32m   3379\u001b[39m \u001b[33;03mspecified by the renderer argument\u001b[39;00m\n\u001b[32m   (...)\u001b[39m\u001b[32m   3406\u001b[39m \u001b[33;03mNone\u001b[39;00m\n\u001b[32m   3407\u001b[39m \u001b[33;03m\"\"\"\u001b[39;00m\n\u001b[32m   3408\u001b[39m \u001b[38;5;28;01mimport\u001b[39;00m\u001b[38;5;250m \u001b[39m\u001b[34;01mplotly\u001b[39;00m\u001b[34;01m.\u001b[39;00m\u001b[34;01mio\u001b[39;00m\u001b[38;5;250m \u001b[39m\u001b[38;5;28;01mas\u001b[39;00m\u001b[38;5;250m \u001b[39m\u001b[34;01mpio\u001b[39;00m\n\u001b[32m-> \u001b[39m\u001b[32m3410\u001b[39m \u001b[38;5;28;01mreturn\u001b[39;00m \u001b[43mpio\u001b[49m\u001b[43m.\u001b[49m\u001b[43mshow\u001b[49m\u001b[43m(\u001b[49m\u001b[38;5;28;43mself\u001b[39;49m\u001b[43m,\u001b[49m\u001b[43m \u001b[49m\u001b[43m*\u001b[49m\u001b[43margs\u001b[49m\u001b[43m,\u001b[49m\u001b[43m \u001b[49m\u001b[43m*\u001b[49m\u001b[43m*\u001b[49m\u001b[43mkwargs\u001b[49m\u001b[43m)\u001b[49m\n",
            "\u001b[36mFile \u001b[39m\u001b[32mc:\\Users\\rayra\\OneDrive\\Documentos\\imersaoAluraDadosPython\\.venv\\Lib\\site-packages\\plotly\\io\\_renderers.py:394\u001b[39m, in \u001b[36mshow\u001b[39m\u001b[34m(fig, renderer, validate, **kwargs)\u001b[39m\n\u001b[32m    389\u001b[39m         \u001b[38;5;28;01mraise\u001b[39;00m \u001b[38;5;167;01mValueError\u001b[39;00m(\n\u001b[32m    390\u001b[39m             \u001b[33m\"\u001b[39m\u001b[33mMime type rendering requires ipython but it is not installed\u001b[39m\u001b[33m\"\u001b[39m\n\u001b[32m    391\u001b[39m         )\n\u001b[32m    393\u001b[39m     \u001b[38;5;28;01mif\u001b[39;00m \u001b[38;5;129;01mnot\u001b[39;00m nbformat \u001b[38;5;129;01mor\u001b[39;00m Version(nbformat.__version__) < Version(\u001b[33m\"\u001b[39m\u001b[33m4.2.0\u001b[39m\u001b[33m\"\u001b[39m):\n\u001b[32m--> \u001b[39m\u001b[32m394\u001b[39m         \u001b[38;5;28;01mraise\u001b[39;00m \u001b[38;5;167;01mValueError\u001b[39;00m(\n\u001b[32m    395\u001b[39m             \u001b[33m\"\u001b[39m\u001b[33mMime type rendering requires nbformat>=4.2.0 but it is not installed\u001b[39m\u001b[33m\"\u001b[39m\n\u001b[32m    396\u001b[39m         )\n\u001b[32m    398\u001b[39m     ipython_display.display(bundle, raw=\u001b[38;5;28;01mTrue\u001b[39;00m)\n\u001b[32m    400\u001b[39m \u001b[38;5;66;03m# external renderers\u001b[39;00m\n",
            "\u001b[31mValueError\u001b[39m: Mime type rendering requires nbformat>=4.2.0 but it is not installed"
          ]
        }
      ],
      "source": [
        "remoto_contagem = df_limpo['remoto'].value_counts().reset_index()\n",
        "remoto_contagem.columns = ['tipo_trabalho', 'quantidade']\n",
        "\n",
        "fig = px.pie(remoto_contagem,\n",
        "             names='tipo_trabalho',\n",
        "             values='quantidade',\n",
        "             title='Proporção dos tipos de trabalho',\n",
        "             hole=0.5\n",
        "          )\n",
        "fig.update_traces(textinfo='percent+label')\n",
        "fig.show()"
      ]
    },
    {
      "cell_type": "code",
      "execution_count": null,
      "metadata": {
        "id": "EJMFfiEIYqh7"
      },
      "outputs": [],
      "source": []
    },
    {
      "cell_type": "code",
      "execution_count": null,
      "metadata": {
        "colab": {
          "base_uri": "https://localhost:8080/",
          "height": 206
        },
        "id": "3VV_bMeXlFHB",
        "outputId": "d2c58ef7-f6f3-4660-83fb-e8268a1f3d3f"
      },
      "outputs": [
        {
          "data": {
            "application/vnd.google.colaboratory.intrinsic+json": {
              "type": "dataframe",
              "variable_name": "df"
            },
            "text/html": [
              "\n",
              "  <div id=\"df-d38c2af2-3144-434e-9ad4-9dc93fb4b391\" class=\"colab-df-container\">\n",
              "    <div>\n",
              "<style scoped>\n",
              "    .dataframe tbody tr th:only-of-type {\n",
              "        vertical-align: middle;\n",
              "    }\n",
              "\n",
              "    .dataframe tbody tr th {\n",
              "        vertical-align: top;\n",
              "    }\n",
              "\n",
              "    .dataframe thead th {\n",
              "        text-align: right;\n",
              "    }\n",
              "</style>\n",
              "<table border=\"1\" class=\"dataframe\">\n",
              "  <thead>\n",
              "    <tr style=\"text-align: right;\">\n",
              "      <th></th>\n",
              "      <th>ano</th>\n",
              "      <th>senioridade</th>\n",
              "      <th>contrato</th>\n",
              "      <th>cargo</th>\n",
              "      <th>salario</th>\n",
              "      <th>moeda</th>\n",
              "      <th>usd</th>\n",
              "      <th>residencia</th>\n",
              "      <th>remoto</th>\n",
              "      <th>empresa</th>\n",
              "      <th>tamanho_empresa</th>\n",
              "    </tr>\n",
              "  </thead>\n",
              "  <tbody>\n",
              "    <tr>\n",
              "      <th>0</th>\n",
              "      <td>2025.0</td>\n",
              "      <td>senior</td>\n",
              "      <td>integral</td>\n",
              "      <td>Solutions Engineer</td>\n",
              "      <td>214000</td>\n",
              "      <td>USD</td>\n",
              "      <td>214000</td>\n",
              "      <td>US</td>\n",
              "      <td>remoto</td>\n",
              "      <td>US</td>\n",
              "      <td>media</td>\n",
              "    </tr>\n",
              "    <tr>\n",
              "      <th>1</th>\n",
              "      <td>2025.0</td>\n",
              "      <td>senior</td>\n",
              "      <td>integral</td>\n",
              "      <td>Solutions Engineer</td>\n",
              "      <td>136000</td>\n",
              "      <td>USD</td>\n",
              "      <td>136000</td>\n",
              "      <td>US</td>\n",
              "      <td>remoto</td>\n",
              "      <td>US</td>\n",
              "      <td>media</td>\n",
              "    </tr>\n",
              "    <tr>\n",
              "      <th>2</th>\n",
              "      <td>2025.0</td>\n",
              "      <td>pleno</td>\n",
              "      <td>integral</td>\n",
              "      <td>Data Engineer</td>\n",
              "      <td>158800</td>\n",
              "      <td>USD</td>\n",
              "      <td>158800</td>\n",
              "      <td>AU</td>\n",
              "      <td>presencial</td>\n",
              "      <td>AU</td>\n",
              "      <td>media</td>\n",
              "    </tr>\n",
              "    <tr>\n",
              "      <th>3</th>\n",
              "      <td>2025.0</td>\n",
              "      <td>pleno</td>\n",
              "      <td>integral</td>\n",
              "      <td>Data Engineer</td>\n",
              "      <td>139200</td>\n",
              "      <td>USD</td>\n",
              "      <td>139200</td>\n",
              "      <td>AU</td>\n",
              "      <td>presencial</td>\n",
              "      <td>AU</td>\n",
              "      <td>media</td>\n",
              "    </tr>\n",
              "    <tr>\n",
              "      <th>4</th>\n",
              "      <td>2025.0</td>\n",
              "      <td>junior</td>\n",
              "      <td>integral</td>\n",
              "      <td>Data Engineer</td>\n",
              "      <td>90000</td>\n",
              "      <td>USD</td>\n",
              "      <td>90000</td>\n",
              "      <td>US</td>\n",
              "      <td>presencial</td>\n",
              "      <td>US</td>\n",
              "      <td>media</td>\n",
              "    </tr>\n",
              "  </tbody>\n",
              "</table>\n",
              "</div>\n",
              "    <div class=\"colab-df-buttons\">\n",
              "\n",
              "  <div class=\"colab-df-container\">\n",
              "    <button class=\"colab-df-convert\" onclick=\"convertToInteractive('df-d38c2af2-3144-434e-9ad4-9dc93fb4b391')\"\n",
              "            title=\"Convert this dataframe to an interactive table.\"\n",
              "            style=\"display:none;\">\n",
              "\n",
              "  <svg xmlns=\"http://www.w3.org/2000/svg\" height=\"24px\" viewBox=\"0 -960 960 960\">\n",
              "    <path d=\"M120-120v-720h720v720H120Zm60-500h600v-160H180v160Zm220 220h160v-160H400v160Zm0 220h160v-160H400v160ZM180-400h160v-160H180v160Zm440 0h160v-160H620v160ZM180-180h160v-160H180v160Zm440 0h160v-160H620v160Z\"/>\n",
              "  </svg>\n",
              "    </button>\n",
              "\n",
              "  <style>\n",
              "    .colab-df-container {\n",
              "      display:flex;\n",
              "      gap: 12px;\n",
              "    }\n",
              "\n",
              "    .colab-df-convert {\n",
              "      background-color: #E8F0FE;\n",
              "      border: none;\n",
              "      border-radius: 50%;\n",
              "      cursor: pointer;\n",
              "      display: none;\n",
              "      fill: #1967D2;\n",
              "      height: 32px;\n",
              "      padding: 0 0 0 0;\n",
              "      width: 32px;\n",
              "    }\n",
              "\n",
              "    .colab-df-convert:hover {\n",
              "      background-color: #E2EBFA;\n",
              "      box-shadow: 0px 1px 2px rgba(60, 64, 67, 0.3), 0px 1px 3px 1px rgba(60, 64, 67, 0.15);\n",
              "      fill: #174EA6;\n",
              "    }\n",
              "\n",
              "    .colab-df-buttons div {\n",
              "      margin-bottom: 4px;\n",
              "    }\n",
              "\n",
              "    [theme=dark] .colab-df-convert {\n",
              "      background-color: #3B4455;\n",
              "      fill: #D2E3FC;\n",
              "    }\n",
              "\n",
              "    [theme=dark] .colab-df-convert:hover {\n",
              "      background-color: #434B5C;\n",
              "      box-shadow: 0px 1px 3px 1px rgba(0, 0, 0, 0.15);\n",
              "      filter: drop-shadow(0px 1px 2px rgba(0, 0, 0, 0.3));\n",
              "      fill: #FFFFFF;\n",
              "    }\n",
              "  </style>\n",
              "\n",
              "    <script>\n",
              "      const buttonEl =\n",
              "        document.querySelector('#df-d38c2af2-3144-434e-9ad4-9dc93fb4b391 button.colab-df-convert');\n",
              "      buttonEl.style.display =\n",
              "        google.colab.kernel.accessAllowed ? 'block' : 'none';\n",
              "\n",
              "      async function convertToInteractive(key) {\n",
              "        const element = document.querySelector('#df-d38c2af2-3144-434e-9ad4-9dc93fb4b391');\n",
              "        const dataTable =\n",
              "          await google.colab.kernel.invokeFunction('convertToInteractive',\n",
              "                                                    [key], {});\n",
              "        if (!dataTable) return;\n",
              "\n",
              "        const docLinkHtml = 'Like what you see? Visit the ' +\n",
              "          '<a target=\"_blank\" href=https://colab.research.google.com/notebooks/data_table.ipynb>data table notebook</a>'\n",
              "          + ' to learn more about interactive tables.';\n",
              "        element.innerHTML = '';\n",
              "        dataTable['output_type'] = 'display_data';\n",
              "        await google.colab.output.renderOutput(dataTable, element);\n",
              "        const docLink = document.createElement('div');\n",
              "        docLink.innerHTML = docLinkHtml;\n",
              "        element.appendChild(docLink);\n",
              "      }\n",
              "    </script>\n",
              "  </div>\n",
              "\n",
              "\n",
              "    <div id=\"df-465cbbaf-a49a-4a07-827b-83c30e2c6de1\">\n",
              "      <button class=\"colab-df-quickchart\" onclick=\"quickchart('df-465cbbaf-a49a-4a07-827b-83c30e2c6de1')\"\n",
              "                title=\"Suggest charts\"\n",
              "                style=\"display:none;\">\n",
              "\n",
              "<svg xmlns=\"http://www.w3.org/2000/svg\" height=\"24px\"viewBox=\"0 0 24 24\"\n",
              "     width=\"24px\">\n",
              "    <g>\n",
              "        <path d=\"M19 3H5c-1.1 0-2 .9-2 2v14c0 1.1.9 2 2 2h14c1.1 0 2-.9 2-2V5c0-1.1-.9-2-2-2zM9 17H7v-7h2v7zm4 0h-2V7h2v10zm4 0h-2v-4h2v4z\"/>\n",
              "    </g>\n",
              "</svg>\n",
              "      </button>\n",
              "\n",
              "<style>\n",
              "  .colab-df-quickchart {\n",
              "      --bg-color: #E8F0FE;\n",
              "      --fill-color: #1967D2;\n",
              "      --hover-bg-color: #E2EBFA;\n",
              "      --hover-fill-color: #174EA6;\n",
              "      --disabled-fill-color: #AAA;\n",
              "      --disabled-bg-color: #DDD;\n",
              "  }\n",
              "\n",
              "  [theme=dark] .colab-df-quickchart {\n",
              "      --bg-color: #3B4455;\n",
              "      --fill-color: #D2E3FC;\n",
              "      --hover-bg-color: #434B5C;\n",
              "      --hover-fill-color: #FFFFFF;\n",
              "      --disabled-bg-color: #3B4455;\n",
              "      --disabled-fill-color: #666;\n",
              "  }\n",
              "\n",
              "  .colab-df-quickchart {\n",
              "    background-color: var(--bg-color);\n",
              "    border: none;\n",
              "    border-radius: 50%;\n",
              "    cursor: pointer;\n",
              "    display: none;\n",
              "    fill: var(--fill-color);\n",
              "    height: 32px;\n",
              "    padding: 0;\n",
              "    width: 32px;\n",
              "  }\n",
              "\n",
              "  .colab-df-quickchart:hover {\n",
              "    background-color: var(--hover-bg-color);\n",
              "    box-shadow: 0 1px 2px rgba(60, 64, 67, 0.3), 0 1px 3px 1px rgba(60, 64, 67, 0.15);\n",
              "    fill: var(--button-hover-fill-color);\n",
              "  }\n",
              "\n",
              "  .colab-df-quickchart-complete:disabled,\n",
              "  .colab-df-quickchart-complete:disabled:hover {\n",
              "    background-color: var(--disabled-bg-color);\n",
              "    fill: var(--disabled-fill-color);\n",
              "    box-shadow: none;\n",
              "  }\n",
              "\n",
              "  .colab-df-spinner {\n",
              "    border: 2px solid var(--fill-color);\n",
              "    border-color: transparent;\n",
              "    border-bottom-color: var(--fill-color);\n",
              "    animation:\n",
              "      spin 1s steps(1) infinite;\n",
              "  }\n",
              "\n",
              "  @keyframes spin {\n",
              "    0% {\n",
              "      border-color: transparent;\n",
              "      border-bottom-color: var(--fill-color);\n",
              "      border-left-color: var(--fill-color);\n",
              "    }\n",
              "    20% {\n",
              "      border-color: transparent;\n",
              "      border-left-color: var(--fill-color);\n",
              "      border-top-color: var(--fill-color);\n",
              "    }\n",
              "    30% {\n",
              "      border-color: transparent;\n",
              "      border-left-color: var(--fill-color);\n",
              "      border-top-color: var(--fill-color);\n",
              "      border-right-color: var(--fill-color);\n",
              "    }\n",
              "    40% {\n",
              "      border-color: transparent;\n",
              "      border-right-color: var(--fill-color);\n",
              "      border-top-color: var(--fill-color);\n",
              "    }\n",
              "    60% {\n",
              "      border-color: transparent;\n",
              "      border-right-color: var(--fill-color);\n",
              "    }\n",
              "    80% {\n",
              "      border-color: transparent;\n",
              "      border-right-color: var(--fill-color);\n",
              "      border-bottom-color: var(--fill-color);\n",
              "    }\n",
              "    90% {\n",
              "      border-color: transparent;\n",
              "      border-bottom-color: var(--fill-color);\n",
              "    }\n",
              "  }\n",
              "</style>\n",
              "\n",
              "      <script>\n",
              "        async function quickchart(key) {\n",
              "          const quickchartButtonEl =\n",
              "            document.querySelector('#' + key + ' button');\n",
              "          quickchartButtonEl.disabled = true;  // To prevent multiple clicks.\n",
              "          quickchartButtonEl.classList.add('colab-df-spinner');\n",
              "          try {\n",
              "            const charts = await google.colab.kernel.invokeFunction(\n",
              "                'suggestCharts', [key], {});\n",
              "          } catch (error) {\n",
              "            console.error('Error during call to suggestCharts:', error);\n",
              "          }\n",
              "          quickchartButtonEl.classList.remove('colab-df-spinner');\n",
              "          quickchartButtonEl.classList.add('colab-df-quickchart-complete');\n",
              "        }\n",
              "        (() => {\n",
              "          let quickchartButtonEl =\n",
              "            document.querySelector('#df-465cbbaf-a49a-4a07-827b-83c30e2c6de1 button');\n",
              "          quickchartButtonEl.style.display =\n",
              "            google.colab.kernel.accessAllowed ? 'block' : 'none';\n",
              "        })();\n",
              "      </script>\n",
              "    </div>\n",
              "\n",
              "    </div>\n",
              "  </div>\n"
            ],
            "text/plain": [
              "      ano senioridade  contrato               cargo  salario moeda     usd  \\\n",
              "0  2025.0      senior  integral  Solutions Engineer   214000   USD  214000   \n",
              "1  2025.0      senior  integral  Solutions Engineer   136000   USD  136000   \n",
              "2  2025.0       pleno  integral       Data Engineer   158800   USD  158800   \n",
              "3  2025.0       pleno  integral       Data Engineer   139200   USD  139200   \n",
              "4  2025.0      junior  integral       Data Engineer    90000   USD   90000   \n",
              "\n",
              "  residencia      remoto empresa tamanho_empresa  \n",
              "0         US      remoto      US           media  \n",
              "1         US      remoto      US           media  \n",
              "2         AU  presencial      AU           media  \n",
              "3         AU  presencial      AU           media  \n",
              "4         US  presencial      US           media  "
            ]
          },
          "execution_count": 56,
          "metadata": {},
          "output_type": "execute_result"
        }
      ],
      "source": [
        "df.head()"
      ]
    },
    {
      "cell_type": "code",
      "execution_count": 56,
      "metadata": {
        "colab": {
          "base_uri": "https://localhost:8080/"
        },
        "id": "gejbPii_tfzd",
        "outputId": "805cd32f-f781-4001-abc3-eb850893431a"
      },
      "outputs": [
        {
          "name": "stdout",
          "output_type": "stream",
          "text": [
            "Requirement already satisfied: pycountry in c:\\users\\rayra\\onedrive\\documentos\\imersaoaluradadospython\\.venv\\lib\\site-packages (24.6.1)\n",
            "Note: you may need to restart the kernel to use updated packages.\n"
          ]
        }
      ],
      "source": [
        "pip install pycountry"
      ]
    },
    {
      "cell_type": "code",
      "execution_count": 57,
      "metadata": {
        "colab": {
          "base_uri": "https://localhost:8080/",
          "height": 542
        },
        "id": "Pi0kdpnDtQiH",
        "outputId": "15c19fdb-aa65-43be-922d-cd2871a5f252"
      },
      "outputs": [
        {
          "ename": "ValueError",
          "evalue": "Mime type rendering requires nbformat>=4.2.0 but it is not installed",
          "output_type": "error",
          "traceback": [
            "\u001b[31m---------------------------------------------------------------------------\u001b[39m",
            "\u001b[31mValueError\u001b[39m                                Traceback (most recent call last)",
            "\u001b[36mCell\u001b[39m\u001b[36m \u001b[39m\u001b[32mIn[57]\u001b[39m\u001b[32m, line 25\u001b[39m\n\u001b[32m     17\u001b[39m \u001b[38;5;66;03m# Gerar o mapa\u001b[39;00m\n\u001b[32m     18\u001b[39m fig = px.choropleth(media_ds_pais,\n\u001b[32m     19\u001b[39m                     locations=\u001b[33m'\u001b[39m\u001b[33mresidencia_iso3\u001b[39m\u001b[33m'\u001b[39m,\n\u001b[32m     20\u001b[39m                     color=\u001b[33m'\u001b[39m\u001b[33musd\u001b[39m\u001b[33m'\u001b[39m,\n\u001b[32m     21\u001b[39m                     color_continuous_scale=\u001b[33m'\u001b[39m\u001b[33mrdylgn\u001b[39m\u001b[33m'\u001b[39m,\n\u001b[32m     22\u001b[39m                     title=\u001b[33m'\u001b[39m\u001b[33mSalário médio de Cientista de Dados por país\u001b[39m\u001b[33m'\u001b[39m,\n\u001b[32m     23\u001b[39m                     labels={\u001b[33m'\u001b[39m\u001b[33musd\u001b[39m\u001b[33m'\u001b[39m: \u001b[33m'\u001b[39m\u001b[33mSalário médio (USD)\u001b[39m\u001b[33m'\u001b[39m, \u001b[33m'\u001b[39m\u001b[33mresidencia_iso3\u001b[39m\u001b[33m'\u001b[39m: \u001b[33m'\u001b[39m\u001b[33mPaís\u001b[39m\u001b[33m'\u001b[39m})\n\u001b[32m---> \u001b[39m\u001b[32m25\u001b[39m \u001b[43mfig\u001b[49m\u001b[43m.\u001b[49m\u001b[43mshow\u001b[49m\u001b[43m(\u001b[49m\u001b[43m)\u001b[49m\n",
            "\u001b[36mFile \u001b[39m\u001b[32mc:\\Users\\rayra\\OneDrive\\Documentos\\imersaoAluraDadosPython\\.venv\\Lib\\site-packages\\plotly\\basedatatypes.py:3410\u001b[39m, in \u001b[36mBaseFigure.show\u001b[39m\u001b[34m(self, *args, **kwargs)\u001b[39m\n\u001b[32m   3377\u001b[39m \u001b[38;5;250m\u001b[39m\u001b[33;03m\"\"\"\u001b[39;00m\n\u001b[32m   3378\u001b[39m \u001b[33;03mShow a figure using either the default renderer(s) or the renderer(s)\u001b[39;00m\n\u001b[32m   3379\u001b[39m \u001b[33;03mspecified by the renderer argument\u001b[39;00m\n\u001b[32m   (...)\u001b[39m\u001b[32m   3406\u001b[39m \u001b[33;03mNone\u001b[39;00m\n\u001b[32m   3407\u001b[39m \u001b[33;03m\"\"\"\u001b[39;00m\n\u001b[32m   3408\u001b[39m \u001b[38;5;28;01mimport\u001b[39;00m\u001b[38;5;250m \u001b[39m\u001b[34;01mplotly\u001b[39;00m\u001b[34;01m.\u001b[39;00m\u001b[34;01mio\u001b[39;00m\u001b[38;5;250m \u001b[39m\u001b[38;5;28;01mas\u001b[39;00m\u001b[38;5;250m \u001b[39m\u001b[34;01mpio\u001b[39;00m\n\u001b[32m-> \u001b[39m\u001b[32m3410\u001b[39m \u001b[38;5;28;01mreturn\u001b[39;00m \u001b[43mpio\u001b[49m\u001b[43m.\u001b[49m\u001b[43mshow\u001b[49m\u001b[43m(\u001b[49m\u001b[38;5;28;43mself\u001b[39;49m\u001b[43m,\u001b[49m\u001b[43m \u001b[49m\u001b[43m*\u001b[49m\u001b[43margs\u001b[49m\u001b[43m,\u001b[49m\u001b[43m \u001b[49m\u001b[43m*\u001b[49m\u001b[43m*\u001b[49m\u001b[43mkwargs\u001b[49m\u001b[43m)\u001b[49m\n",
            "\u001b[36mFile \u001b[39m\u001b[32mc:\\Users\\rayra\\OneDrive\\Documentos\\imersaoAluraDadosPython\\.venv\\Lib\\site-packages\\plotly\\io\\_renderers.py:394\u001b[39m, in \u001b[36mshow\u001b[39m\u001b[34m(fig, renderer, validate, **kwargs)\u001b[39m\n\u001b[32m    389\u001b[39m         \u001b[38;5;28;01mraise\u001b[39;00m \u001b[38;5;167;01mValueError\u001b[39;00m(\n\u001b[32m    390\u001b[39m             \u001b[33m\"\u001b[39m\u001b[33mMime type rendering requires ipython but it is not installed\u001b[39m\u001b[33m\"\u001b[39m\n\u001b[32m    391\u001b[39m         )\n\u001b[32m    393\u001b[39m     \u001b[38;5;28;01mif\u001b[39;00m \u001b[38;5;129;01mnot\u001b[39;00m nbformat \u001b[38;5;129;01mor\u001b[39;00m Version(nbformat.__version__) < Version(\u001b[33m\"\u001b[39m\u001b[33m4.2.0\u001b[39m\u001b[33m\"\u001b[39m):\n\u001b[32m--> \u001b[39m\u001b[32m394\u001b[39m         \u001b[38;5;28;01mraise\u001b[39;00m \u001b[38;5;167;01mValueError\u001b[39;00m(\n\u001b[32m    395\u001b[39m             \u001b[33m\"\u001b[39m\u001b[33mMime type rendering requires nbformat>=4.2.0 but it is not installed\u001b[39m\u001b[33m\"\u001b[39m\n\u001b[32m    396\u001b[39m         )\n\u001b[32m    398\u001b[39m     ipython_display.display(bundle, raw=\u001b[38;5;28;01mTrue\u001b[39;00m)\n\u001b[32m    400\u001b[39m \u001b[38;5;66;03m# external renderers\u001b[39;00m\n",
            "\u001b[31mValueError\u001b[39m: Mime type rendering requires nbformat>=4.2.0 but it is not installed"
          ]
        }
      ],
      "source": [
        "import pycountry\n",
        "\n",
        "# Função para converter ISO-2 para ISO-3\n",
        "def iso2_to_iso3(code):\n",
        "    try:\n",
        "        return pycountry.countries.get(alpha_2=code).alpha_3\n",
        "    except:\n",
        "        return None\n",
        "\n",
        "# Criar nova coluna com código ISO-3\n",
        "df_limpo['residencia_iso3'] = df_limpo['residencia'].apply(iso2_to_iso3)\n",
        "\n",
        "# Calcular média salarial por país (ISO-3)\n",
        "df_ds = df_limpo[df_limpo['cargo'] == 'Data Scientist']\n",
        "media_ds_pais = df_ds.groupby('residencia_iso3')['usd'].mean().reset_index()\n",
        "\n",
        "# Gerar o mapa\n",
        "fig = px.choropleth(media_ds_pais,\n",
        "                    locations='residencia_iso3',\n",
        "                    color='usd',\n",
        "                    color_continuous_scale='rdylgn',\n",
        "                    title='Salário médio de Cientista de Dados por país',\n",
        "                    labels={'usd': 'Salário médio (USD)', 'residencia_iso3': 'País'})\n",
        "\n",
        "fig.show()"
      ]
    },
    {
      "cell_type": "code",
      "execution_count": 58,
      "metadata": {
        "colab": {
          "base_uri": "https://localhost:8080/",
          "height": 206
        },
        "id": "v8nk7ZzonEuM",
        "outputId": "12eb93b4-6936-473f-f9a6-1e9914cf3bfc"
      },
      "outputs": [
        {
          "data": {
            "text/html": [
              "<div>\n",
              "<style scoped>\n",
              "    .dataframe tbody tr th:only-of-type {\n",
              "        vertical-align: middle;\n",
              "    }\n",
              "\n",
              "    .dataframe tbody tr th {\n",
              "        vertical-align: top;\n",
              "    }\n",
              "\n",
              "    .dataframe thead th {\n",
              "        text-align: right;\n",
              "    }\n",
              "</style>\n",
              "<table border=\"1\" class=\"dataframe\">\n",
              "  <thead>\n",
              "    <tr style=\"text-align: right;\">\n",
              "      <th></th>\n",
              "      <th>ano</th>\n",
              "      <th>senioridade</th>\n",
              "      <th>contrato</th>\n",
              "      <th>cargo</th>\n",
              "      <th>salario</th>\n",
              "      <th>moeda</th>\n",
              "      <th>usd</th>\n",
              "      <th>residencia</th>\n",
              "      <th>remoto</th>\n",
              "      <th>empresa</th>\n",
              "      <th>tamanho_empresa</th>\n",
              "      <th>residencia_iso3</th>\n",
              "    </tr>\n",
              "  </thead>\n",
              "  <tbody>\n",
              "    <tr>\n",
              "      <th>0</th>\n",
              "      <td>2025</td>\n",
              "      <td>senior</td>\n",
              "      <td>integral</td>\n",
              "      <td>Solutions Engineer</td>\n",
              "      <td>214000</td>\n",
              "      <td>USD</td>\n",
              "      <td>214000</td>\n",
              "      <td>US</td>\n",
              "      <td>remoto</td>\n",
              "      <td>US</td>\n",
              "      <td>media</td>\n",
              "      <td>USA</td>\n",
              "    </tr>\n",
              "    <tr>\n",
              "      <th>1</th>\n",
              "      <td>2025</td>\n",
              "      <td>senior</td>\n",
              "      <td>integral</td>\n",
              "      <td>Solutions Engineer</td>\n",
              "      <td>136000</td>\n",
              "      <td>USD</td>\n",
              "      <td>136000</td>\n",
              "      <td>US</td>\n",
              "      <td>remoto</td>\n",
              "      <td>US</td>\n",
              "      <td>media</td>\n",
              "      <td>USA</td>\n",
              "    </tr>\n",
              "    <tr>\n",
              "      <th>2</th>\n",
              "      <td>2025</td>\n",
              "      <td>pleno</td>\n",
              "      <td>integral</td>\n",
              "      <td>Data Engineer</td>\n",
              "      <td>158800</td>\n",
              "      <td>USD</td>\n",
              "      <td>158800</td>\n",
              "      <td>AU</td>\n",
              "      <td>presencial</td>\n",
              "      <td>AU</td>\n",
              "      <td>media</td>\n",
              "      <td>AUS</td>\n",
              "    </tr>\n",
              "    <tr>\n",
              "      <th>3</th>\n",
              "      <td>2025</td>\n",
              "      <td>pleno</td>\n",
              "      <td>integral</td>\n",
              "      <td>Data Engineer</td>\n",
              "      <td>139200</td>\n",
              "      <td>USD</td>\n",
              "      <td>139200</td>\n",
              "      <td>AU</td>\n",
              "      <td>presencial</td>\n",
              "      <td>AU</td>\n",
              "      <td>media</td>\n",
              "      <td>AUS</td>\n",
              "    </tr>\n",
              "    <tr>\n",
              "      <th>4</th>\n",
              "      <td>2025</td>\n",
              "      <td>junior</td>\n",
              "      <td>integral</td>\n",
              "      <td>Data Engineer</td>\n",
              "      <td>90000</td>\n",
              "      <td>USD</td>\n",
              "      <td>90000</td>\n",
              "      <td>US</td>\n",
              "      <td>presencial</td>\n",
              "      <td>US</td>\n",
              "      <td>media</td>\n",
              "      <td>USA</td>\n",
              "    </tr>\n",
              "  </tbody>\n",
              "</table>\n",
              "</div>"
            ],
            "text/plain": [
              "    ano senioridade  contrato               cargo  salario moeda     usd  \\\n",
              "0  2025      senior  integral  Solutions Engineer   214000   USD  214000   \n",
              "1  2025      senior  integral  Solutions Engineer   136000   USD  136000   \n",
              "2  2025       pleno  integral       Data Engineer   158800   USD  158800   \n",
              "3  2025       pleno  integral       Data Engineer   139200   USD  139200   \n",
              "4  2025      junior  integral       Data Engineer    90000   USD   90000   \n",
              "\n",
              "  residencia      remoto empresa tamanho_empresa residencia_iso3  \n",
              "0         US      remoto      US           media             USA  \n",
              "1         US      remoto      US           media             USA  \n",
              "2         AU  presencial      AU           media             AUS  \n",
              "3         AU  presencial      AU           media             AUS  \n",
              "4         US  presencial      US           media             USA  "
            ]
          },
          "execution_count": 58,
          "metadata": {},
          "output_type": "execute_result"
        }
      ],
      "source": [
        "df_limpo.head()"
      ]
    },
    {
      "cell_type": "markdown",
      "metadata": {
        "id": "4p6VvGobfO7k"
      },
      "source": []
    },
    {
      "cell_type": "code",
      "execution_count": 59,
      "metadata": {
        "id": "eqGMA50dnZCu"
      },
      "outputs": [],
      "source": [
        "df_limpo.to_csv('dados-imersao-final.csv', index=False)"
      ]
    },
    {
      "cell_type": "markdown",
      "metadata": {
        "id": "PAbRjXrhjJ6s"
      },
      "source": [
        "# Aula 4 - Construindo um Dashboard com Streamlit\n",
        "\n",
        "> Aprender a usar a biblioteca Streamlit para a criação de um dashboard interativo simples, que permite visualizar dados filtrados e gerar gráficos de forma prática."
      ]
    },
    {
      "cell_type": "markdown",
      "metadata": {
        "id": "UXBgn8x-OTYe"
      },
      "source": [
        "https://dashboard-salarios-dados.streamlit.app/"
      ]
    },
    {
      "cell_type": "markdown",
      "metadata": {
        "id": "J4VzOYS-5RVM"
      },
      "source": [
        "1. Criar o ambiente virtual:\n",
        "\n",
        "```bash\n",
        "python3 -m venv .venv\n",
        "```\n",
        "\n",
        "2. Ativar o ambiente virtual em Windows:\n",
        "\n",
        "```bash\n",
        ".venv\\Scripts\\Activate\n",
        "```\n",
        "\n",
        "3. Ativar o ambiente virtual em MAC/LINUX:\n",
        "```bash\n",
        "source .venv/bin/activate\n",
        "```\n",
        "\n",
        "4. Criar um arquivo chamado requirements.txt e adicionar os pacotes necessários\n",
        "\n",
        "```bash\n",
        "pandas==2.2.3\n",
        "streamlit==1.44.1\n",
        "plotly==5.24.1\n",
        "```\n",
        "\n",
        "5. Instalar as bibliotecas necessárias\n",
        "\n",
        "```bash\n",
        "pip install -r requirements.txt\n",
        "```\n",
        "\n",
        "6. Criar a Interface do Dashboard com Streamlit\n",
        "\n",
        "7. Realizar o deploy do Dashboard no Streamlit Cloud: https://streamlit.io/cloud"
      ]
    },
    {
      "cell_type": "markdown",
      "metadata": {
        "id": "_ouiIsjvX07Z"
      },
      "source": [
        "."
      ]
    },
    {
      "cell_type": "code",
      "execution_count": 60,
      "metadata": {
        "id": "I6tKMD0CXzvm"
      },
      "outputs": [
        {
          "name": "stderr",
          "output_type": "stream",
          "text": [
            "2025-08-09 10:13:13.614 WARNING streamlit.runtime.scriptrunner_utils.script_run_context: Thread 'MainThread': missing ScriptRunContext! This warning can be ignored when running in bare mode.\n",
            "2025-08-09 10:13:14.110 WARNING streamlit.runtime.scriptrunner_utils.script_run_context: Thread 'MainThread': missing ScriptRunContext! This warning can be ignored when running in bare mode.\n",
            "2025-08-09 10:13:14.369 \n",
            "  \u001b[33m\u001b[1mWarning:\u001b[0m to view this Streamlit app on a browser, run it with the following\n",
            "  command:\n",
            "\n",
            "    streamlit run c:\\Users\\rayra\\OneDrive\\Documentos\\imersaoAluraDadosPython\\.venv\\Lib\\site-packages\\ipykernel_launcher.py [ARGUMENTS]\n",
            "2025-08-09 10:13:14.370 Thread 'MainThread': missing ScriptRunContext! This warning can be ignored when running in bare mode.\n",
            "2025-08-09 10:13:14.373 Thread 'MainThread': missing ScriptRunContext! This warning can be ignored when running in bare mode.\n",
            "2025-08-09 10:13:14.374 Thread 'MainThread': missing ScriptRunContext! This warning can be ignored when running in bare mode.\n",
            "2025-08-09 10:13:14.375 Thread 'MainThread': missing ScriptRunContext! This warning can be ignored when running in bare mode.\n",
            "2025-08-09 10:13:14.375 Thread 'MainThread': missing ScriptRunContext! This warning can be ignored when running in bare mode.\n",
            "2025-08-09 10:13:14.375 Thread 'MainThread': missing ScriptRunContext! This warning can be ignored when running in bare mode.\n",
            "2025-08-09 10:13:14.381 Thread 'MainThread': missing ScriptRunContext! This warning can be ignored when running in bare mode.\n",
            "2025-08-09 10:13:14.382 Thread 'MainThread': missing ScriptRunContext! This warning can be ignored when running in bare mode.\n",
            "2025-08-09 10:13:14.383 Thread 'MainThread': missing ScriptRunContext! This warning can be ignored when running in bare mode.\n",
            "2025-08-09 10:13:14.384 Thread 'MainThread': missing ScriptRunContext! This warning can be ignored when running in bare mode.\n",
            "2025-08-09 10:13:14.385 Thread 'MainThread': missing ScriptRunContext! This warning can be ignored when running in bare mode.\n",
            "2025-08-09 10:13:14.392 Thread 'MainThread': missing ScriptRunContext! This warning can be ignored when running in bare mode.\n",
            "2025-08-09 10:13:14.393 Thread 'MainThread': missing ScriptRunContext! This warning can be ignored when running in bare mode.\n",
            "2025-08-09 10:13:14.394 Thread 'MainThread': missing ScriptRunContext! This warning can be ignored when running in bare mode.\n",
            "2025-08-09 10:13:14.395 Thread 'MainThread': missing ScriptRunContext! This warning can be ignored when running in bare mode.\n",
            "2025-08-09 10:13:14.397 Thread 'MainThread': missing ScriptRunContext! This warning can be ignored when running in bare mode.\n",
            "2025-08-09 10:13:14.402 Thread 'MainThread': missing ScriptRunContext! This warning can be ignored when running in bare mode.\n",
            "2025-08-09 10:13:14.403 Thread 'MainThread': missing ScriptRunContext! This warning can be ignored when running in bare mode.\n",
            "2025-08-09 10:13:14.404 Thread 'MainThread': missing ScriptRunContext! This warning can be ignored when running in bare mode.\n",
            "2025-08-09 10:13:14.404 Thread 'MainThread': missing ScriptRunContext! This warning can be ignored when running in bare mode.\n",
            "2025-08-09 10:13:14.405 Thread 'MainThread': missing ScriptRunContext! This warning can be ignored when running in bare mode.\n",
            "2025-08-09 10:13:14.423 Thread 'MainThread': missing ScriptRunContext! This warning can be ignored when running in bare mode.\n",
            "2025-08-09 10:13:14.424 Thread 'MainThread': missing ScriptRunContext! This warning can be ignored when running in bare mode.\n",
            "2025-08-09 10:13:14.425 Thread 'MainThread': missing ScriptRunContext! This warning can be ignored when running in bare mode.\n",
            "2025-08-09 10:13:14.426 Thread 'MainThread': missing ScriptRunContext! This warning can be ignored when running in bare mode.\n",
            "2025-08-09 10:13:14.426 Thread 'MainThread': missing ScriptRunContext! This warning can be ignored when running in bare mode.\n",
            "2025-08-09 10:13:14.427 Thread 'MainThread': missing ScriptRunContext! This warning can be ignored when running in bare mode.\n",
            "2025-08-09 10:13:14.433 Thread 'MainThread': missing ScriptRunContext! This warning can be ignored when running in bare mode.\n",
            "2025-08-09 10:13:14.434 Thread 'MainThread': missing ScriptRunContext! This warning can be ignored when running in bare mode.\n",
            "2025-08-09 10:13:14.434 Thread 'MainThread': missing ScriptRunContext! This warning can be ignored when running in bare mode.\n",
            "2025-08-09 10:13:14.435 Thread 'MainThread': missing ScriptRunContext! This warning can be ignored when running in bare mode.\n",
            "2025-08-09 10:13:14.435 Thread 'MainThread': missing ScriptRunContext! This warning can be ignored when running in bare mode.\n",
            "2025-08-09 10:13:14.436 Thread 'MainThread': missing ScriptRunContext! This warning can be ignored when running in bare mode.\n",
            "2025-08-09 10:13:14.437 Thread 'MainThread': missing ScriptRunContext! This warning can be ignored when running in bare mode.\n",
            "2025-08-09 10:13:14.438 Thread 'MainThread': missing ScriptRunContext! This warning can be ignored when running in bare mode.\n",
            "2025-08-09 10:13:14.438 Thread 'MainThread': missing ScriptRunContext! This warning can be ignored when running in bare mode.\n",
            "2025-08-09 10:13:14.439 Thread 'MainThread': missing ScriptRunContext! This warning can be ignored when running in bare mode.\n",
            "2025-08-09 10:13:14.440 Thread 'MainThread': missing ScriptRunContext! This warning can be ignored when running in bare mode.\n",
            "2025-08-09 10:13:14.440 Thread 'MainThread': missing ScriptRunContext! This warning can be ignored when running in bare mode.\n",
            "2025-08-09 10:13:14.441 Thread 'MainThread': missing ScriptRunContext! This warning can be ignored when running in bare mode.\n",
            "2025-08-09 10:13:14.441 Thread 'MainThread': missing ScriptRunContext! This warning can be ignored when running in bare mode.\n",
            "2025-08-09 10:13:14.442 Thread 'MainThread': missing ScriptRunContext! This warning can be ignored when running in bare mode.\n",
            "2025-08-09 10:13:14.443 Thread 'MainThread': missing ScriptRunContext! This warning can be ignored when running in bare mode.\n",
            "2025-08-09 10:13:14.444 Thread 'MainThread': missing ScriptRunContext! This warning can be ignored when running in bare mode.\n",
            "2025-08-09 10:13:14.444 Thread 'MainThread': missing ScriptRunContext! This warning can be ignored when running in bare mode.\n",
            "2025-08-09 10:13:14.445 Thread 'MainThread': missing ScriptRunContext! This warning can be ignored when running in bare mode.\n",
            "2025-08-09 10:13:14.446 Thread 'MainThread': missing ScriptRunContext! This warning can be ignored when running in bare mode.\n",
            "2025-08-09 10:13:14.494 Thread 'MainThread': missing ScriptRunContext! This warning can be ignored when running in bare mode.\n",
            "2025-08-09 10:13:14.495 Thread 'MainThread': missing ScriptRunContext! This warning can be ignored when running in bare mode.\n",
            "2025-08-09 10:13:14.495 Thread 'MainThread': missing ScriptRunContext! This warning can be ignored when running in bare mode.\n",
            "2025-08-09 10:13:14.496 Thread 'MainThread': missing ScriptRunContext! This warning can be ignored when running in bare mode.\n",
            "2025-08-09 10:13:14.820 Thread 'MainThread': missing ScriptRunContext! This warning can be ignored when running in bare mode.\n",
            "2025-08-09 10:13:14.821 Thread 'MainThread': missing ScriptRunContext! This warning can be ignored when running in bare mode.\n",
            "2025-08-09 10:13:14.823 Thread 'MainThread': missing ScriptRunContext! This warning can be ignored when running in bare mode.\n",
            "2025-08-09 10:13:14.824 Thread 'MainThread': missing ScriptRunContext! This warning can be ignored when running in bare mode.\n",
            "2025-08-09 10:13:14.825 Thread 'MainThread': missing ScriptRunContext! This warning can be ignored when running in bare mode.\n",
            "2025-08-09 10:13:14.826 Thread 'MainThread': missing ScriptRunContext! This warning can be ignored when running in bare mode.\n",
            "2025-08-09 10:13:14.826 Thread 'MainThread': missing ScriptRunContext! This warning can be ignored when running in bare mode.\n",
            "2025-08-09 10:13:14.845 Thread 'MainThread': missing ScriptRunContext! This warning can be ignored when running in bare mode.\n",
            "2025-08-09 10:13:14.846 Thread 'MainThread': missing ScriptRunContext! This warning can be ignored when running in bare mode.\n",
            "2025-08-09 10:13:14.846 Thread 'MainThread': missing ScriptRunContext! This warning can be ignored when running in bare mode.\n",
            "2025-08-09 10:13:14.847 Thread 'MainThread': missing ScriptRunContext! This warning can be ignored when running in bare mode.\n",
            "2025-08-09 10:13:14.878 Thread 'MainThread': missing ScriptRunContext! This warning can be ignored when running in bare mode.\n",
            "2025-08-09 10:13:14.880 Thread 'MainThread': missing ScriptRunContext! This warning can be ignored when running in bare mode.\n",
            "2025-08-09 10:13:14.881 Thread 'MainThread': missing ScriptRunContext! This warning can be ignored when running in bare mode.\n",
            "2025-08-09 10:13:14.881 Thread 'MainThread': missing ScriptRunContext! This warning can be ignored when running in bare mode.\n",
            "2025-08-09 10:13:14.882 Thread 'MainThread': missing ScriptRunContext! This warning can be ignored when running in bare mode.\n",
            "2025-08-09 10:13:14.882 Thread 'MainThread': missing ScriptRunContext! This warning can be ignored when running in bare mode.\n",
            "2025-08-09 10:13:14.975 Thread 'MainThread': missing ScriptRunContext! This warning can be ignored when running in bare mode.\n",
            "2025-08-09 10:13:14.982 Thread 'MainThread': missing ScriptRunContext! This warning can be ignored when running in bare mode.\n"
          ]
        },
        {
          "data": {
            "text/plain": [
              "DeltaGenerator()"
            ]
          },
          "execution_count": 60,
          "metadata": {},
          "output_type": "execute_result"
        }
      ],
      "source": [
        "import streamlit as st\n",
        "import pandas as pd\n",
        "import plotly.express as px\n",
        "\n",
        "# --- Configuração da Página ---\n",
        "# Define o título da página, o ícone e o layout para ocupar a largura inteira.\n",
        "st.set_page_config(\n",
        "    page_title=\"Dashboard de Salários na Área de Dados\",\n",
        "    page_icon=\"📊\",\n",
        "    layout=\"wide\",\n",
        ")\n",
        "\n",
        "# --- Carregamento dos dados ---\n",
        "df = pd.read_csv(\"https://raw.githubusercontent.com/vqrca/dashboard_salarios_dados/refs/heads/main/dados-imersao-final.csv\")\n",
        "\n",
        "# --- Barra Lateral (Filtros) ---\n",
        "st.sidebar.header(\"🔍 Filtros\")\n",
        "\n",
        "# Filtro de Ano\n",
        "anos_disponiveis = sorted(df['ano'].unique())\n",
        "anos_selecionados = st.sidebar.multiselect(\"Ano\", anos_disponiveis, default=anos_disponiveis)\n",
        "\n",
        "# Filtro de Senioridade\n",
        "senioridades_disponiveis = sorted(df['senioridade'].unique())\n",
        "senioridades_selecionadas = st.sidebar.multiselect(\"Senioridade\", senioridades_disponiveis, default=senioridades_disponiveis)\n",
        "\n",
        "# Filtro por Tipo de Contrato\n",
        "contratos_disponiveis = sorted(df['contrato'].unique())\n",
        "contratos_selecionados = st.sidebar.multiselect(\"Tipo de Contrato\", contratos_disponiveis, default=contratos_disponiveis)\n",
        "\n",
        "# Filtro por Tamanho da Empresa\n",
        "tamanhos_disponiveis = sorted(df['tamanho_empresa'].unique())\n",
        "tamanhos_selecionados = st.sidebar.multiselect(\"Tamanho da Empresa\", tamanhos_disponiveis, default=tamanhos_disponiveis)\n",
        "\n",
        "# --- Filtragem do DataFrame ---\n",
        "# O dataframe principal é filtrado com base nas seleções feitas na barra lateral.\n",
        "df_filtrado = df[\n",
        "    (df['ano'].isin(anos_selecionados)) &\n",
        "    (df['senioridade'].isin(senioridades_selecionadas)) &\n",
        "    (df['contrato'].isin(contratos_selecionados)) &\n",
        "    (df['tamanho_empresa'].isin(tamanhos_selecionados))\n",
        "]\n",
        "\n",
        "# --- Conteúdo Principal ---\n",
        "st.title(\"🎲 Dashboard de Análise de Salários na Área de Dados\")\n",
        "st.markdown(\"Explore os dados salariais na área de dados nos últimos anos. Utilize os filtros à esquerda para refinar sua análise.\")\n",
        "\n",
        "# --- Métricas Principais (KPIs) ---\n",
        "st.subheader(\"Métricas gerais (Salário anual em USD)\")\n",
        "\n",
        "if not df_filtrado.empty:\n",
        "    salario_medio = df_filtrado['usd'].mean()\n",
        "    salario_maximo = df_filtrado['usd'].max()\n",
        "    total_registros = df_filtrado.shape[0]\n",
        "    cargo_mais_frequente = df_filtrado[\"cargo\"].mode()[0]\n",
        "else:\n",
        "    salario_medio, salario_mediano, salario_maximo, total_registros, cargo_mais_comum = 0, 0, 0, \"\"\n",
        "\n",
        "col1, col2, col3, col4 = st.columns(4)\n",
        "col1.metric(\"Salário médio\", f\"${salario_medio:,.0f}\")\n",
        "col2.metric(\"Salário máximo\", f\"${salario_maximo:,.0f}\")\n",
        "col3.metric(\"Total de registros\", f\"{total_registros:,}\")\n",
        "col4.metric(\"Cargo mais frequente\", cargo_mais_frequente)\n",
        "\n",
        "st.markdown(\"---\")\n",
        "\n",
        "# --- Análises Visuais com Plotly ---\n",
        "st.subheader(\"Gráficos\")\n",
        "\n",
        "col_graf1, col_graf2 = st.columns(2)\n",
        "\n",
        "with col_graf1:\n",
        "    if not df_filtrado.empty:\n",
        "        top_cargos = df_filtrado.groupby('cargo')['usd'].mean().nlargest(10).sort_values(ascending=True).reset_index()\n",
        "        grafico_cargos = px.bar(\n",
        "            top_cargos,\n",
        "            x='usd',\n",
        "            y='cargo',\n",
        "            orientation='h',\n",
        "            title=\"Top 10 cargos por salário médio\",\n",
        "            labels={'usd': 'Média salarial anual (USD)', 'cargo': ''}\n",
        "        )\n",
        "        grafico_cargos.update_layout(title_x=0.1, yaxis={'categoryorder':'total ascending'})\n",
        "        st.plotly_chart(grafico_cargos, use_container_width=True)\n",
        "    else:\n",
        "        st.warning(\"Nenhum dado para exibir no gráfico de cargos.\")\n",
        "\n",
        "with col_graf2:\n",
        "    if not df_filtrado.empty:\n",
        "        grafico_hist = px.histogram(\n",
        "            df_filtrado,\n",
        "            x='usd',\n",
        "            nbins=30,\n",
        "            title=\"Distribuição de salários anuais\",\n",
        "            labels={'usd': 'Faixa salarial (USD)', 'count': ''}\n",
        "        )\n",
        "        grafico_hist.update_layout(title_x=0.1)\n",
        "        st.plotly_chart(grafico_hist, use_container_width=True)\n",
        "    else:\n",
        "        st.warning(\"Nenhum dado para exibir no gráfico de distribuição.\")\n",
        "\n",
        "col_graf3, col_graf4 = st.columns(2)\n",
        "\n",
        "with col_graf3:\n",
        "    if not df_filtrado.empty:\n",
        "        remoto_contagem = df_filtrado['remoto'].value_counts().reset_index()\n",
        "        remoto_contagem.columns = ['tipo_trabalho', 'quantidade']\n",
        "        grafico_remoto = px.pie(\n",
        "            remoto_contagem,\n",
        "            names='tipo_trabalho',\n",
        "            values='quantidade',\n",
        "            title='Proporção dos tipos de trabalho',\n",
        "            hole=0.5\n",
        "        )\n",
        "        grafico_remoto.update_traces(textinfo='percent+label')\n",
        "        grafico_remoto.update_layout(title_x=0.1)\n",
        "        st.plotly_chart(grafico_remoto, use_container_width=True)\n",
        "    else:\n",
        "        st.warning(\"Nenhum dado para exibir no gráfico dos tipos de trabalho.\")\n",
        "\n",
        "with col_graf4:\n",
        "    if not df_filtrado.empty:\n",
        "        df_ds = df_filtrado[df_filtrado['cargo'] == 'Data Scientist']\n",
        "        media_ds_pais = df_ds.groupby('residencia_iso3')['usd'].mean().reset_index()\n",
        "        grafico_paises = px.choropleth(media_ds_pais,\n",
        "            locations='residencia_iso3',\n",
        "            color='usd',\n",
        "            color_continuous_scale='rdylgn',\n",
        "            title='Salário médio de Cientista de Dados por país',\n",
        "            labels={'usd': 'Salário médio (USD)', 'residencia_iso3': 'País'})\n",
        "        grafico_paises.update_layout(title_x=0.1)\n",
        "        st.plotly_chart(grafico_paises, use_container_width=True)\n",
        "    else:\n",
        "        st.warning(\"Nenhum dado para exibir no gráfico de países.\")\n",
        "\n",
        "# --- Tabela de Dados Detalhados ---\n",
        "st.subheader(\"Dados Detalhados\")\n",
        "st.dataframe(df_filtrado)"
      ]
    }
  ],
  "metadata": {
    "colab": {
      "provenance": []
    },
    "kernelspec": {
      "display_name": ".venv",
      "language": "python",
      "name": "python3"
    },
    "language_info": {
      "codemirror_mode": {
        "name": "ipython",
        "version": 3
      },
      "file_extension": ".py",
      "mimetype": "text/x-python",
      "name": "python",
      "nbconvert_exporter": "python",
      "pygments_lexer": "ipython3",
      "version": "3.13.6"
    }
  },
  "nbformat": 4,
  "nbformat_minor": 0
}
